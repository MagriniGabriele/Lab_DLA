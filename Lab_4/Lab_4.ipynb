{
 "cells": [
  {
   "cell_type": "markdown",
   "id": "32e2ac44-45aa-4d2c-9e16-907bf8683659",
   "metadata": {},
   "source": [
    "# Laboratory #4: Adversarial Learning and OOD Detection\n",
    "\n",
    "In this laboratory session we will develop a methodology for detecting OOD samples and measuring the quality of OOD detection. We will also experiment with incorporating adversarial examples during training to render models more robust to adversarial attacks.\n",
    "\n",
    "---\n",
    "## Exercise 1: OOD Detection and Performance Evaluation\n",
    "In this first exercise you will build a simple OOD detection pipeline and implement some performance metrics to evaluate its performance."
   ]
  },
  {
   "cell_type": "markdown",
   "id": "93c02677-b193-4c3b-a5e1-c9c4015b9dc2",
   "metadata": {},
   "source": [
    "### Exercise 1.1: Build a simple OOD detection pipeline\n",
    "\n",
    "Implement an OOD detection pipeline (like in the Flipped Activity notebook) using an ID and an OOD dataset of your choice. Some options:\n",
    "\n",
    "+ CIFAR-10 (ID), Subset of CIFAR-100 (OOD). You will need to wrap CIFAR-100 in some way to select a subset of classes that are *not* in CIFAR-10 (see `torch.utils.data.Subset`).\n",
    "+ Labeled Faces in the Wild (ID), CIFAR-10 or FakeData (OOD). The LfW dataset is available in Scikit-learn (see `sklearn.datasets.fetch_lfw_people`).\n",
    "+ Something else, but if using images keep the images reasonably small!\n",
    "\n",
    "In this exercise your *OOD Detector* should produce a score representing how \"out of distribution\" a test sample is. We will implement some metrics in the next exercise, but for now use the techniques from the flipped activity notebook to judge how well OOD scoring is working (i.e. histograms).\n",
    "\n",
    "**Note**: Make sure you make a validation split of your ID dataset for testing."
   ]
  },
  {
   "cell_type": "markdown",
   "id": "eb57d942",
   "metadata": {},
   "source": [
    "### **Wait!** \n",
    "Aren't cifar100 and cifar10 mutually exclusive? \n",
    "\n",
    "(Yes, so we have an OOD set ready to be used. Yay!)"
   ]
  },
  {
   "cell_type": "code",
   "execution_count": 1,
   "id": "bc06bd79-ac57-473c-9ce0-30c0381ad34f",
   "metadata": {
    "tags": []
   },
   "outputs": [],
   "source": [
    "# Your code here.\n",
    "# Standard imports.\n",
    "import numpy as np\n",
    "import matplotlib.pyplot as plt\n",
    "import torch\n",
    "import torch.nn as nn\n",
    "import torch.nn.functional as F\n",
    "import torch.optim as optim\n",
    "from torchvision.datasets import FakeData, CIFAR10, CIFAR100\n",
    "import torchvision.transforms as transforms\n",
    "\n",
    "# Select best device.\n",
    "device = 'cuda' if torch.cuda.is_available() else 'cpu'\n"
   ]
  },
  {
   "cell_type": "markdown",
   "id": "e91bd4da",
   "metadata": {},
   "source": [
    "Here we define the ID dataset and Dataloader"
   ]
  },
  {
   "cell_type": "code",
   "execution_count": 2,
   "id": "7aa34168",
   "metadata": {},
   "outputs": [
    {
     "name": "stdout",
     "output_type": "stream",
     "text": [
      "Files already downloaded and verified\n",
      "Files already downloaded and verified\n"
     ]
    }
   ],
   "source": [
    "# We will use CIFAR-10 as our in-distribution dataset.\n",
    "transform = transforms.Compose(\n",
    "    [transforms.ToTensor(),\n",
    "     transforms.Normalize((0.5, 0.5, 0.5), (0.5, 0.5, 0.5))])\n",
    "\n",
    "# Load the datasets and setup the DataLoaders.\n",
    "batch_size = 32\n",
    "ds_train = CIFAR10(root='./data', train=True, download=True, transform=transform)\n",
    "dl_train = torch.utils.data.DataLoader(ds_train, batch_size=batch_size, shuffle=True, num_workers=2)\n",
    "\n",
    "ds_test = CIFAR10(root='./data', train=False, download=True, transform=transform)\n",
    "dl_test = torch.utils.data.DataLoader(ds_test, batch_size=batch_size, shuffle=False, num_workers=2)"
   ]
  },
  {
   "cell_type": "markdown",
   "id": "8ce704a0",
   "metadata": {},
   "source": [
    "Now we load the CIFAR100 dataset for OOD sampling"
   ]
  },
  {
   "cell_type": "code",
   "execution_count": 3,
   "id": "42eb60ae",
   "metadata": {},
   "outputs": [
    {
     "name": "stdout",
     "output_type": "stream",
     "text": [
      "Files already downloaded and verified\n"
     ]
    }
   ],
   "source": [
    "# CIFAR-100 DATASET LOADING\n",
    "batch_size = 32\n",
    "#TODO: subset different classes for CIFAR-10\n",
    "dataset_ood = CIFAR100(root='./data', train=False, download=True, transform=transform)\n",
    "\n",
    "dl_ood = torch.utils.data.DataLoader(dataset_ood, batch_size=batch_size, shuffle=True, num_workers=2)\n",
    "\n"
   ]
  },
  {
   "cell_type": "markdown",
   "id": "9c3031cb",
   "metadata": {},
   "source": [
    "A very simple CNN"
   ]
  },
  {
   "cell_type": "code",
   "execution_count": 4,
   "id": "1a8483c1",
   "metadata": {},
   "outputs": [],
   "source": [
    "# A very simple CNN model.\n",
    "class CNN(nn.Module):\n",
    "    def __init__(self):\n",
    "        super().__init__()\n",
    "        self.conv1 = nn.Conv2d(3, 6, 5)\n",
    "        self.pool = nn.MaxPool2d(2, 2)\n",
    "        self.conv2 = nn.Conv2d(6, 16, 5)\n",
    "        self.fc1 = nn.Linear(16 * 5 * 5, 120)\n",
    "        self.fc2 = nn.Linear(120, 84)\n",
    "        self.fc3 = nn.Linear(84, 10)\n",
    "\n",
    "    def forward(self, x):\n",
    "        x = self.pool(F.relu(self.conv1(x)))\n",
    "        x = self.pool(F.relu(self.conv2(x)))\n",
    "        x = torch.flatten(x, 1)\n",
    "        x = F.relu(self.fc1(x))\n",
    "        x = F.relu(self.fc2(x))\n",
    "        x = self.fc3(x)\n",
    "        return x"
   ]
  },
  {
   "cell_type": "markdown",
   "id": "2647fe69",
   "metadata": {},
   "source": [
    "Let's now train the model from scratch"
   ]
  },
  {
   "cell_type": "code",
   "execution_count": 5,
   "id": "c07662f1",
   "metadata": {},
   "outputs": [
    {
     "name": "stdout",
     "output_type": "stream",
     "text": [
      "1 loss: 1.603\n",
      "2 loss: 1.301\n",
      "3 loss: 1.173\n",
      "4 loss: 1.088\n",
      "5 loss: 1.023\n",
      "6 loss: 0.971\n",
      "7 loss: 0.927\n",
      "8 loss: 0.888\n",
      "9 loss: 0.855\n",
      "10 loss: 0.821\n",
      "11 loss: 0.799\n",
      "12 loss: 0.773\n",
      "13 loss: 0.747\n",
      "14 loss: 0.725\n",
      "15 loss: 0.702\n",
      "16 loss: 0.679\n",
      "17 loss: 0.661\n",
      "18 loss: 0.643\n",
      "19 loss: 0.627\n",
      "20 loss: 0.613\n",
      "21 loss: 0.597\n",
      "22 loss: 0.586\n",
      "23 loss: 0.566\n",
      "24 loss: 0.551\n",
      "25 loss: 0.540\n",
      "26 loss: 0.526\n",
      "27 loss: 0.515\n",
      "28 loss: 0.505\n",
      "29 loss: 0.491\n",
      "30 loss: 0.487\n",
      "31 loss: 0.472\n",
      "32 loss: 0.468\n",
      "33 loss: 0.459\n",
      "34 loss: 0.446\n",
      "35 loss: 0.440\n",
      "36 loss: 0.433\n",
      "37 loss: 0.418\n",
      "38 loss: 0.410\n",
      "39 loss: 0.411\n",
      "40 loss: 0.403\n",
      "41 loss: 0.393\n",
      "42 loss: 0.389\n",
      "43 loss: 0.379\n",
      "44 loss: 0.376\n",
      "45 loss: 0.371\n",
      "46 loss: 0.360\n",
      "47 loss: 0.363\n",
      "48 loss: 0.352\n",
      "49 loss: 0.349\n",
      "50 loss: 0.344\n",
      "Finished Training\n"
     ]
    }
   ],
   "source": [
    "# USE THIS CELL TO TRAIN MODEL FROM SCRATCH.\n",
    "model = CNN().to(device)\n",
    "\n",
    "# Train for only 50 epochs.\n",
    "epochs = 50\n",
    "criterion = nn.CrossEntropyLoss()\n",
    "optimizer = optim.Adam(model.parameters(), lr=0.001)\n",
    "\n",
    "# Main training loop.\n",
    "for epoch in range(epochs):\n",
    "    running_loss = 0.0\n",
    "    # Iterate over all batches.\n",
    "    for (i, (Xs, ys)) in enumerate(dl_train, 0):\n",
    "        Xs = Xs.to(device)\n",
    "        ys = ys.to(device)\n",
    "        \n",
    "        # Make a gradient step.\n",
    "        optimizer.zero_grad()\n",
    "        outputs = model(Xs)\n",
    "        loss = criterion(outputs, ys)\n",
    "        loss.backward()\n",
    "        optimizer.step()\n",
    "        \n",
    "        # Track epoch loss.\n",
    "        running_loss += loss.item()\n",
    "\n",
    "    # Print average epoch loss.\n",
    "    print(f'{epoch + 1} loss: {running_loss / len(dl_train):.3f}')\n",
    "\n",
    "print('Finished Training')\n",
    "torch.save(model.state_dict(), './cifar10_CNN.pth')"
   ]
  },
  {
   "cell_type": "code",
   "execution_count": 6,
   "id": "1a631cce",
   "metadata": {},
   "outputs": [],
   "source": [
    "def test(model, dl):\n",
    "    model.eval()\n",
    "    correct = 0\n",
    "    total = 0\n",
    "    with torch.no_grad():\n",
    "        for (Xs, ys) in dl:\n",
    "            Xs = Xs.to(device)\n",
    "            ys = ys.to(device)\n",
    "            outputs = model(Xs)\n",
    "            _, predicted = torch.max(outputs, 1)\n",
    "            total += ys.size(0)\n",
    "            correct += (predicted == ys).sum().item()\n",
    "\n",
    "    print(f'Accuracy of the network on the {total} test images: {100 * correct / total}%')"
   ]
  },
  {
   "cell_type": "code",
   "execution_count": 7,
   "id": "221bdba6",
   "metadata": {},
   "outputs": [
    {
     "name": "stdout",
     "output_type": "stream",
     "text": [
      "Accuracy of the network on the 10000 test images: 59.02%\n"
     ]
    }
   ],
   "source": [
    "test(model, dl_test)"
   ]
  },
  {
   "cell_type": "markdown",
   "id": "e941d164",
   "metadata": {},
   "source": [
    "We now test the performances using the logit to score the OOD samples"
   ]
  },
  {
   "cell_type": "code",
   "execution_count": 8,
   "id": "13a790a8",
   "metadata": {},
   "outputs": [],
   "source": [
    "# Function to collect all logits from the model on entire dataset.\n",
    "def collect_logits(model, dl):\n",
    "    logits = []\n",
    "    with torch.no_grad():\n",
    "        for (Xs, _) in dl:\n",
    "            logits.append(model(Xs.to(device)).cpu().numpy())\n",
    "    return np.vstack(logits)"
   ]
  },
  {
   "cell_type": "code",
   "execution_count": 9,
   "id": "6e4a536f",
   "metadata": {},
   "outputs": [],
   "source": [
    "# Collect logits on CIFAR-10 test set (ID) and noise (very OOD).\n",
    "logits_ID = collect_logits(model, dl_test)\n",
    "logits_OOD = collect_logits(model, dl_ood)"
   ]
  },
  {
   "cell_type": "markdown",
   "id": "ad1478ba",
   "metadata": {},
   "source": [
    "And now we plot the histogram of the scores!"
   ]
  },
  {
   "cell_type": "code",
   "execution_count": 10,
   "id": "65f52c7c",
   "metadata": {},
   "outputs": [
    {
     "data": {
      "text/plain": [
       "<matplotlib.legend.Legend at 0x7f3014231950>"
      ]
     },
     "execution_count": 10,
     "metadata": {},
     "output_type": "execute_result"
    },
    {
     "data": {
      "image/png": "[encoded data removed]",
      "text/plain": [
       "<Figure size 640x480 with 1 Axes>"
      ]
     },
     "metadata": {},
     "output_type": "display_data"
    }
   ],
   "source": [
    "# Plot the *distribution* of max logit outputs.\n",
    "_ = plt.hist(logits_ID.max(1), 50, density=True, alpha=0.5, label='ID')\n",
    "_ = plt.hist(logits_OOD.max(1), 50, density=True, alpha=0.5, label='OOD')\n",
    "plt.legend()"
   ]
  },
  {
   "cell_type": "code",
   "execution_count": 11,
   "id": "49be1b46",
   "metadata": {},
   "outputs": [
    {
     "name": "stdout",
     "output_type": "stream",
     "text": [
      "Accuracy: 60.28%\n",
      "OOD: 36.33%\n"
     ]
    }
   ],
   "source": [
    "# OOD with max logit\n",
    "threshold = 5\n",
    "print(f'Accuracy: {(logits_ID.max(1) > threshold).mean() * 100:.2f}%') # Percentage of ID samples over 5 logit\n",
    "print(f'OOD: {(logits_OOD.max(1) > threshold).mean() * 100:.2f}%') # Percentage of OOD samples over 5 logit"
   ]
  },
  {
   "cell_type": "markdown",
   "id": "0a376c9f",
   "metadata": {},
   "source": [
    "I'll use 5 as threshold for the OOD samples"
   ]
  },
  {
   "cell_type": "code",
   "execution_count": 12,
   "id": "7825eda1",
   "metadata": {},
   "outputs": [],
   "source": [
    "detection = []\n",
    "ground_truth = []\n",
    "\n",
    "# Append 1 if the sample is detected as OOD, 0 otherwise\n",
    "for i in logits_ID.max(1):\n",
    "    if i > threshold:\n",
    "        detection.append(1)\n",
    "    else:  \n",
    "        detection.append(0)\n",
    "\n",
    "for i in logits_OOD.max(1):\n",
    "    if i > threshold:\n",
    "        detection.append(1)\n",
    "    else:  \n",
    "        detection.append(0)\n",
    "\n",
    "# Now i create the ground thruth\n",
    "for i in range(len(logits_ID.max(1))):\n",
    "    ground_truth.append(1)\n",
    "\n",
    "for i in range(len(logits_OOD.max(1))):\n",
    "    ground_truth.append(0)"
   ]
  },
  {
   "cell_type": "code",
   "execution_count": 13,
   "id": "c7700970",
   "metadata": {},
   "outputs": [
    {
     "name": "stdout",
     "output_type": "stream",
     "text": [
      "20000\n",
      "20000\n"
     ]
    }
   ],
   "source": [
    "# Little check ìf the length is correct\n",
    "print(len(detection))\n",
    "print(len(ground_truth))"
   ]
  },
  {
   "cell_type": "markdown",
   "id": "3a314b5e",
   "metadata": {},
   "source": [
    "### Nice! ###\n",
    "\n",
    "Let's now measure the performances using the AUROC metric and the AUPR metric"
   ]
  },
  {
   "cell_type": "markdown",
   "id": "d3878924-66ec-44bc-80af-4ce9b7e46ef2",
   "metadata": {},
   "source": [
    "### Exercise 1.2: Measure your OOD detection performance\n",
    "\n",
    "There are several metrics used to evaluate OOD detection performance, we will concentrate on two threshold-free approaches: the area under the Receiver Operator Characteristic (ROC) curve for ID classification, and the area under the Precision-Recall curve for *both* ID and OOD scoring. See [the ODIN paper](https://arxiv.org/pdf/1706.02690.pdf) section 4.3 for a description of OOD metrics.\n",
    "\n",
    "Use the functions in `sklearn.metrics` to produce ROC and PR curves for your OOD detector. Some useful functions:\n",
    "\n",
    "+ [`sklearn.metric.RocCurveDisplay.from_predictions`](https://scikit-learn.org/stable/modules/generated/sklearn.metrics.RocCurveDisplay.html)\n",
    "+ [`sklearn.metrics.PrecisionRecallDisplay`](https://scikit-learn.org/stable/modules/generated/sklearn.metrics.PrecisionRecallDisplay.html)\n"
   ]
  },
  {
   "cell_type": "markdown",
   "id": "cad5811a",
   "metadata": {},
   "source": [
    "### AUROC ###"
   ]
  },
  {
   "cell_type": "code",
   "execution_count": 14,
   "id": "95872246-85fb-41a5-8018-8643d76bfcb9",
   "metadata": {
    "tags": []
   },
   "outputs": [
    {
     "data": {
      "image/png": "[encoded data removed]",
      "text/plain": [
       "<Figure size 640x480 with 1 Axes>"
      ]
     },
     "metadata": {},
     "output_type": "display_data"
    }
   ],
   "source": [
    "from sklearn import metrics\n",
    "\n",
    "fpr, tpr, thresholds = metrics.roc_curve(ground_truth, detection)\n",
    "roc_auc = metrics.auc(fpr, tpr)\n",
    "display = metrics.RocCurveDisplay(fpr=fpr, tpr=tpr, roc_auc=roc_auc,estimator_name='example estimator')\n",
    "display.plot()\n",
    "plt.show()"
   ]
  },
  {
   "cell_type": "markdown",
   "id": "03e85038",
   "metadata": {},
   "source": [
    "### Precision-Recall ###"
   ]
  },
  {
   "cell_type": "code",
   "execution_count": 15,
   "id": "7aa040f5",
   "metadata": {},
   "outputs": [
    {
     "data": {
      "image/png": "[encoded data removed]",
      "text/plain": [
       "<Figure size 640x480 with 1 Axes>"
      ]
     },
     "metadata": {},
     "output_type": "display_data"
    }
   ],
   "source": [
    "from sklearn.metrics import precision_recall_curve, PrecisionRecallDisplay\n",
    "\n",
    "precision, recall, _ = precision_recall_curve(ground_truth, detection)\n",
    "disp = PrecisionRecallDisplay(precision=precision, recall=recall)\n",
    "disp.plot()\n",
    "\n",
    "plt.show()"
   ]
  },
  {
   "cell_type": "markdown",
   "id": "b00e7265-77c4-4659-9bda-cc23247370bd",
   "metadata": {},
   "source": [
    "---\n",
    "## Exercise 2: Enhancing Robustness to Adversarial Attack\n",
    "\n",
    "In this second exercise we will experiment with enhancing our base model to be (more) robust to adversarial attacks. \n",
    "\n",
    "### Exercise 2.1: Implement FGSM and generate adversarial examples\n",
    "\n",
    "Recall that the Fast Gradient Sign Method (FGSM) perturbs samples in the direction of the gradient with respect to the input $\\mathbf{x}$:\n",
    "$$ \\boldsymbol{\\eta}(\\mathbf{x}) = \\varepsilon \\mathrm{sign}(\\nabla_{\\mathbf{x}} \\mathcal{L}(\\boldsymbol{\\theta}, \\mathbf{x}, y)) ) $$\n",
    "Implement FGSM and generate some *adversarial examples* using your trained ID model. Evaluate these samples qualitatively and quantitatively. Evaluate how dependent on $\\varepsilon$ the quality of these samples are. "
   ]
  },
  {
   "cell_type": "code",
   "execution_count": 16,
   "id": "4c052cbf-c45e-4d03-805e-53b917137043",
   "metadata": {
    "tags": []
   },
   "outputs": [],
   "source": [
    "# Your code here.\n",
    "\n",
    "def fgsm_attack(model, dataloader, epsilon):\n",
    "    perturbed_dataset = []\n",
    "    accuracies = []\n",
    "    model.requires_grad = False\n",
    "    for data, target in dataloader:\n",
    "        data = data.to(device)\n",
    "        target = target.to(device)\n",
    "        data.requires_grad = True\n",
    "        output = model(data)\n",
    "        loss = criterion(output, target)\n",
    "        loss.backward()\n",
    "        \n",
    "        perturbed_data = data + epsilon * data.grad.data.sign()\n",
    "        #perturbed_data = torch.clamp(perturbed_data, 0, 1)  \n",
    "        perturbed_dataset.append(perturbed_data)\n",
    "        output_perturbed = model(perturbed_data)\n",
    "        \n",
    "        #loss_perturbed = criterion(output_perturbed, target)\n",
    "        acc = (output_perturbed.argmax(1) == target).float().mean()\n",
    "        accuracies.append(acc)\n",
    "    average_accuracy = sum(accuracies) / len(accuracies)\n",
    "    print(average_accuracy.item())\n",
    "    return average_accuracy.item()\n",
    "        "
   ]
  },
  {
   "cell_type": "markdown",
   "id": "2b48f138",
   "metadata": {},
   "source": [
    "Now i gather perturbed data from the original dataset"
   ]
  },
  {
   "cell_type": "code",
   "execution_count": 17,
   "id": "984faf8f",
   "metadata": {},
   "outputs": [
    {
     "name": "stdout",
     "output_type": "stream",
     "text": [
      "0.590355396270752\n",
      "Average accuracy for epsilon =  0 :\n",
      "0.590355396270752\n",
      "Average accuracy for epsilon =  0.05 :\n",
      "0.05491213873028755\n",
      "Average accuracy for epsilon =  0.1 :\n",
      "0.039037540555000305\n",
      "Average accuracy for epsilon =  0.2 :\n",
      "0.05221645161509514\n",
      "Average accuracy for epsilon =  0.3 :\n",
      "0.07088658213615417\n"
     ]
    }
   ],
   "source": [
    "import copy\n",
    "\n",
    "epsilons = [0,0.05,0.1,0.2,0.3]\n",
    "acc = []\n",
    "model.eval()\n",
    "accuracy = fgsm_attack(model, dl_test, epsilon=0)\n",
    "for epsilon in (epsilons):\n",
    "    print(\"Average accuracy for epsilon = \", epsilon, \":\")\n",
    "    acc.append(fgsm_attack(model, dl_test, epsilon=epsilon))\n"
   ]
  },
  {
   "cell_type": "code",
   "execution_count": 18,
   "id": "7371ce7a",
   "metadata": {},
   "outputs": [
    {
     "name": "stdout",
     "output_type": "stream",
     "text": [
      "5\n",
      "5\n"
     ]
    },
    {
     "data": {
      "image/png": "[encoded data removed]",
      "text/plain": [
       "<Figure size 640x480 with 1 Axes>"
      ]
     },
     "metadata": {},
     "output_type": "display_data"
    }
   ],
   "source": [
    "print(len(acc))\n",
    "print(len(epsilons))\n",
    "\n",
    "plt.plot(epsilons, acc, \"*-\")\n",
    "plt.title(\"Accuracy vs Epsilon\")\n",
    "plt.xlabel(\"Epsilon\")\n",
    "plt.ylabel(\"Accuracy\")\n",
    "plt.show()\n"
   ]
  },
  {
   "cell_type": "markdown",
   "id": "4d82e7dc-cdfe-4201-8dc5-3891dfd6ea49",
   "metadata": {},
   "source": [
    "### Exercise 2.2: Augment training with adversarial examples\n",
    "\n",
    "Use your implementation of FGSM to augment your training dataset with adversarial samples. Ideally, you should implement this data augmentation *on the fly* so that the adversarial samples are always generated using the current model. Evaluate whether the model is more (or less) robust to ID samples using your OOD detection pipeline and metrics you implemented in Exercise 1."
   ]
  },
  {
   "cell_type": "code",
   "execution_count": 19,
   "id": "61da5e2d-30a9-48d6-86fd-6711612eb976",
   "metadata": {},
   "outputs": [],
   "source": [
    "def fgsm_augmented(model, dataloader, epsilon, epochs):\n",
    "    model.requires_grad = True\n",
    "    optimizer = optim.Adam(model.parameters(), lr=0.001)\n",
    "    for epoch in range(epochs):\n",
    "        for data, target in dataloader:\n",
    "            data = data.to(device)\n",
    "            target = target.to(device)\n",
    "            data.requires_grad = True\n",
    "            model.zero_grad()\n",
    "            output = model(data)\n",
    "            loss = criterion(output, target)\n",
    "            loss.backward()\n",
    "            optimizer.step()\n",
    "            \n",
    "            perturbed_data = data + epsilon * data.grad.sign()\n",
    " \n",
    "            output_perturbed = model(perturbed_data)\n",
    "            loss_perturbed = criterion(output_perturbed, target)\n",
    "            loss_perturbed.backward()\n",
    "            optimizer.step()\n",
    "\n",
    "    return model"
   ]
  },
  {
   "cell_type": "code",
   "execution_count": 20,
   "id": "91daeaad",
   "metadata": {},
   "outputs": [],
   "source": [
    "model2 = CNN().to(device)\n",
    "new_model = fgsm_augmented(model2, dl_train, epsilon=0.1, epochs=20)"
   ]
  },
  {
   "cell_type": "markdown",
   "id": "64b60990",
   "metadata": {},
   "source": [
    "Let's see how it performs on the OOD dataset now with the perturbed data"
   ]
  },
  {
   "cell_type": "code",
   "execution_count": 21,
   "id": "800cf0be",
   "metadata": {},
   "outputs": [
    {
     "name": "stdout",
     "output_type": "stream",
     "text": [
      "Average accuracy for epsilon =  0 :\n",
      "0.5967451930046082\n",
      "Average accuracy for epsilon =  0.05 :\n",
      "0.3102036714553833\n",
      "Average accuracy for epsilon =  0.1 :\n",
      "0.2995207607746124\n",
      "Average accuracy for epsilon =  0.2 :\n",
      "0.22344249486923218\n",
      "Average accuracy for epsilon =  0.3 :\n",
      "0.15924520790576935\n"
     ]
    }
   ],
   "source": [
    "epsilons = [0,0.05,0.1,0.2,0.3]\n",
    "acc = []\n",
    "model.eval()\n",
    "for epsilon in (epsilons):\n",
    "    print(\"Average accuracy for epsilon = \", epsilon, \":\")\n",
    "    acc.append(fgsm_attack(new_model, dl_test, epsilon=epsilon))"
   ]
  },
  {
   "cell_type": "code",
   "execution_count": 22,
   "id": "776a4282",
   "metadata": {},
   "outputs": [
    {
     "name": "stdout",
     "output_type": "stream",
     "text": [
      "5\n",
      "5\n"
     ]
    },
    {
     "data": {
      "image/png": "[encoded data removed]",
      "text/plain": [
       "<Figure size 640x480 with 1 Axes>"
      ]
     },
     "metadata": {},
     "output_type": "display_data"
    }
   ],
   "source": [
    "print(len(acc))\n",
    "print(len(epsilons))\n",
    "\n",
    "plt.plot(epsilons, acc, \"*-\")\n",
    "plt.title(\"Accuracy vs Epsilon\")\n",
    "plt.xlabel(\"Epsilon\")\n",
    "plt.ylabel(\"Accuracy\")\n",
    "plt.show()\n"
   ]
  },
  {
   "cell_type": "markdown",
   "id": "fac47ab7",
   "metadata": {},
   "source": [
    "Cool! Let's try with another epsilon"
   ]
  },
  {
   "cell_type": "code",
   "execution_count": 23,
   "id": "4f1e8d2a",
   "metadata": {},
   "outputs": [],
   "source": [
    "model3 = CNN().to(device)\n",
    "new_model = fgsm_augmented(model3, dl_train, epsilon=0.2, epochs=20)"
   ]
  },
  {
   "cell_type": "code",
   "execution_count": 24,
   "id": "1f4efd79",
   "metadata": {},
   "outputs": [
    {
     "name": "stdout",
     "output_type": "stream",
     "text": [
      "Average accuracy for epsilon =  0 :\n",
      "0.5884584784507751\n",
      "Average accuracy for epsilon =  0.05 :\n",
      "0.0395367406308651\n",
      "Average accuracy for epsilon =  0.1 :\n",
      "0.18210862576961517\n",
      "Average accuracy for epsilon =  0.2 :\n",
      "0.6803115010261536\n",
      "Average accuracy for epsilon =  0.3 :\n",
      "0.6191093921661377\n"
     ]
    }
   ],
   "source": [
    "epsilons = [0,0.05,0.1,0.2,0.3]\n",
    "acc = []\n",
    "model.eval()\n",
    "for epsilon in (epsilons):\n",
    "    print(\"Average accuracy for epsilon = \", epsilon, \":\")\n",
    "    acc.append(fgsm_attack(new_model, dl_test, epsilon=epsilon))"
   ]
  },
  {
   "cell_type": "code",
   "execution_count": 25,
   "id": "7c9921b5",
   "metadata": {},
   "outputs": [
    {
     "name": "stdout",
     "output_type": "stream",
     "text": [
      "5\n",
      "5\n"
     ]
    },
    {
     "data": {
      "image/png": "[encoded data removed]",
      "text/plain": [
       "<Figure size 640x480 with 1 Axes>"
      ]
     },
     "metadata": {},
     "output_type": "display_data"
    }
   ],
   "source": [
    "print(len(acc))\n",
    "print(len(epsilons))\n",
    "\n",
    "plt.plot(epsilons, acc, \"*-\")\n",
    "plt.title(\"Accuracy vs Epsilon\")\n",
    "plt.xlabel(\"Epsilon\")\n",
    "plt.ylabel(\"Accuracy\")\n",
    "plt.show()\n"
   ]
  },
  {
   "cell_type": "markdown",
   "id": "4aa8666b-85fc-4e83-b8d4-fe6a5dff0fea",
   "metadata": {},
   "source": [
    "---\n",
    "## Exercise 3: Wildcard\n",
    "\n",
    "You know the drill. Pick *ONE* of the following exercises to complete.\n",
    "\n",
    "### Exercise 3.1: Implement ODIN for OOD detection\n",
    "ODIN is a very simple approach, and you can already start experimenting by implementing a temperature hyperparameter in your base model and doing a grid search on $T$ and $\\varepsilon$.\n",
    "\n",
    "### Exercise 3.2: Implement JARN\n",
    "In exercise 2.2 you already implemented Jacobian-regularized learning to make your model more robust to adversarial samples. Add a *discriminator* to your model to encourage the adversarial samples used for regularization to be more *salient*.\n",
    "\n",
    "See [the JARN paper](https://arxiv.org/abs/1912.10185) for more details.\n",
    "\n",
    "### Exercise 3.3: Experiment with *targeted* adversarial attacks\n",
    "Implement the targeted Fast Gradient Sign Method to generate adversarial samples that *imitate* samples from a specific class. Evaluate your adversarial samples qualitatively and quantitatively.\n"
   ]
  },
  {
   "cell_type": "markdown",
   "id": "ecb53e94",
   "metadata": {},
   "source": [
    "First i do a simple function just to detect ood samples"
   ]
  },
  {
   "cell_type": "code",
   "execution_count": 94,
   "id": "6267ad7f",
   "metadata": {},
   "outputs": [],
   "source": [
    "def odin_confidence(model, data, targets, epsilon, temperature,device):\n",
    "        \n",
    "    data = data.to(device)\n",
    "\n",
    "    targets = targets.to(device)\n",
    "\n",
    "        \n",
    "    data.requires_grad = True\n",
    "    outputs = model(data)\n",
    "    outputs = outputs/temperature\n",
    "\n",
    "    soft = torch.softmax(outputs, dim=1)\n",
    "    max = torch.max(soft, dim=1)\n",
    "    log = torch.log(max.values)\n",
    "    \n",
    "    log = log.sum()\n",
    "    log.backward()\n",
    "\n",
    "    # First we perturb the data\n",
    "    perturbed_data = data - epsilon * -data.grad.data.sign()\n",
    "        \n",
    "    # Now we compute the perturbed outputs for scaling\n",
    "\n",
    "    perturbed_outputs = model(perturbed_data)\n",
    "\n",
    "    # Scale the output and do softamx\n",
    "    \n",
    "    confidence,_ = torch.max(perturbed_outputs, dim=1)\n",
    "    return confidence\n"
   ]
  },
  {
   "cell_type": "code",
   "execution_count": 95,
   "id": "db4dfcd9",
   "metadata": {},
   "outputs": [
    {
     "name": "stdout",
     "output_type": "stream",
     "text": [
      "Accuracy of the network on the 20000 test images: 50.349998474121094%\n"
     ]
    }
   ],
   "source": [
    "model = model.to(device)\n",
    "temperature = 100\n",
    "epsilon = 0.3\n",
    "correct = 0\n",
    "total = 0\n",
    "\n",
    "\n",
    "for batch, target in dl_test:\n",
    "    confidence = odin_confidence(model, batch, target, epsilon, temperature,device)\n",
    "    correct += (confidence > epsilon).float().sum()\n",
    "    total += len(batch)\n",
    "\n",
    "for batch, target in dl_ood:\n",
    "    confidence = odin_confidence(model, batch, target, epsilon, temperature,device)\n",
    "    correct += (confidence <= epsilon).float().sum()\n",
    "    total += len(batch)\n",
    "\n",
    "print(f'Accuracy of the network on the {total} test images: {100 * correct / total}%')\n",
    "\n",
    "\n",
    "\n",
    "\n"
   ]
  },
  {
   "cell_type": "code",
   "execution_count": null,
   "id": "796ebd4c",
   "metadata": {},
   "outputs": [],
   "source": [
    "detection = []\n",
    "ground_truth = []\n"
   ]
  },
  {
   "cell_type": "markdown",
   "id": "34f088a7",
   "metadata": {},
   "source": [
    "And now, auroc!"
   ]
  },
  {
   "cell_type": "code",
   "execution_count": null,
   "id": "50f68e79",
   "metadata": {},
   "outputs": [],
   "source": [
    "from sklearn import metrics\n",
    "\n",
    "detection = detected_id + detected_ood\n",
    "\n",
    "gt_id = [0] * len(detected_id)\n",
    "gt_ood = [1] * len(detected_ood)\n",
    "ground_truth = gt_id + gt_ood\n",
    "\n",
    "fpr, tpr, thresholds = metrics.roc_curve(ground_truth, detection)\n",
    "roc_auc = metrics.auc(fpr, tpr)\n",
    "display = metrics.RocCurveDisplay(fpr=fpr, tpr=tpr, roc_auc=roc_auc,estimator_name='example estimator')\n",
    "display.plot()\n",
    "plt.show()"
   ]
  }
 ],
 "metadata": {
  "kernelspec": {
   "display_name": "Python 3 (ipykernel)",
   "language": "python",
   "name": "python3"
  },
  "language_info": {
   "codemirror_mode": {
    "name": "ipython",
    "version": 3
   },
   "file_extension": ".py",
   "mimetype": "text/x-python",
   "name": "python",
   "nbconvert_exporter": "python",
   "pygments_lexer": "ipython3",
   "version": "3.11.4"
  }
 },
 "nbformat": 4,
 "nbformat_minor": 5
}
