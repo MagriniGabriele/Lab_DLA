{
  "cells": [
    {
      "cell_type": "markdown",
      "id": "d97f7c5d-46f3-4cbd-80ad-f1e50cd65096",
      "metadata": {
        "id": "d97f7c5d-46f3-4cbd-80ad-f1e50cd65096"
      },
      "source": [
        "# Deep Learning Applications: Laboratory #1\n",
        "\n",
        "In this first laboratory we will work relatively simple architectures to get a feel for working with Deep Models. This notebook is designed to work with PyTorch, but as I said in the introductory lecture: please feel free to use and experiment with whatever tools you like.\n",
        "\n"
      ]
    },
    {
      "cell_type": "markdown",
      "id": "17ed8906-bd19-4b4f-8b79-4feae355ffd6",
      "metadata": {
        "id": "17ed8906-bd19-4b4f-8b79-4feae355ffd6"
      },
      "source": [
        "## Exercise 1: Warming Up\n",
        "In this series of exercises I want you to try to duplicate (on a small scale) the results of the ResNet paper:\n",
        "\n",
        "> [Deep Residual Learning for Image Recognition](https://arxiv.org/abs/1512.03385), Kaiming He, Xiangyu Zhang, Shaoqing Ren, Jian Sun, CVPR 2016.\n",
        "\n",
        "We will do this in steps using a Multilayer Perceptron on MNIST.\n",
        "\n",
        "Recall that the main message of the ResNet paper is that **deeper** networks do not **guarantee** more reduction in training loss (or in validation accuracy). Below you will incrementally build a sequence of experiments to verify this for an MLP. A few guidelines:\n",
        "\n",
        "+ I have provided some **starter** code at the beginning. **NONE** of this code should survive in your solutions. Not only is it **very** badly written, it is also written in my functional style that also obfuscates what it's doing (in part to **discourage** your reuse!). It's just to get you *started*.\n",
        "+ These exercises ask you to compare **multiple** training runs, so it is **really** important that you factor this into your **pipeline**. Using [Tensorboard](https://pytorch.org/tutorials/recipes/recipes/tensorboard_with_pytorch.html) is a **very** good idea -- or, even better [Weights and Biases](https://wandb.ai/site).\n",
        "+ You may work and submit your solutions in **groups of at most two**. Share your ideas with everyone, but the solutions you submit *must be your own*.\n",
        "\n",
        "First some boilerplate to get you started, then on to the actual exercises!"
      ]
    },
    {
      "cell_type": "markdown",
      "id": "edb2b6d1-3df0-464c-9a5f-8c611257a971",
      "metadata": {
        "id": "edb2b6d1-3df0-464c-9a5f-8c611257a971"
      },
      "source": [
        "### Preface: Some code to get you started\n",
        "\n",
        "What follows is some **very simple** code for training an MLP on MNIST. The point of this code is to get you up and running (and to verify that your Python environment has all needed dependencies).\n",
        "\n",
        "**Note**: As you read through my code and execute it, this would be a good time to think about *abstracting* **your** model definition, and training and evaluation pipelines in order to make it easier to compare performance of different models."
      ]
    },
    {
      "cell_type": "code",
      "execution_count": 3,
      "id": "ab3a8282-2322-4dca-b76e-2f3863bc75fb",
      "metadata": {
        "id": "ab3a8282-2322-4dca-b76e-2f3863bc75fb",
        "tags": []
      },
      "outputs": [],
      "source": [
        "# Start with some standard imports.\n",
        "import numpy as np\n",
        "import matplotlib.pyplot as plt\n",
        "from functools import reduce\n",
        "import torch\n",
        "from torchvision.datasets import MNIST\n",
        "from torch.utils.data import Subset\n",
        "import torch.nn as nn\n",
        "import torch.nn.functional as F\n",
        "import torchvision.transforms as transforms"
      ]
    },
    {
      "cell_type": "code",
      "execution_count": 4,
      "id": "272a69db-0416-444a-9be4-5f055ff48bbb",
      "metadata": {
        "colab": {
          "base_uri": "https://localhost:8080/",
          "height": 423,
          "referenced_widgets": [
            "4465c8b7d0634e52978adf62c43ab1de",
            "9f5dbdb3a56640889108be44fa8044e3",
            "29b1767f327f4431aa2c60d9979045e2",
            "8dfed64a6af64de6a708b1cdc634232b",
            "c20da12748234ba59b037c66902a4969",
            "0316d0ee6f09436c9ac5d8f855377b2f",
            "c019cf1d7b7e4b7e816fdc3ed5bb3767",
            "220549061d134a15954ebed5081149c4",
            "364de86125be484d91262f5ca44939b8",
            "13df1d7a38d24e98a7eabfbfbc7b09aa",
            "af7e34c482c04720b4f005f18e6dad92",
            "b8d7d7b35e244b148171c72267135dd1",
            "5dc962633d4b4dcfb8f6f839440d353f",
            "ea7a779d7c4b4bfc81a21a99cd29771d",
            "6e4aa4f785da45a08332e4e7cb26fbd3",
            "7681f0f494084c8f8b2175e325f7f0f9",
            "62365ef28bcf4d5889ea68ebdedd2e8f",
            "2919df3244d246a6802fa05eaab75ec8",
            "e8b88a0361ce40099b311cb4aa460c65",
            "6f12878b6b934266843f519b6c217375",
            "12ec31c422874dac90059013ca9ceefe",
            "bdeb420091644c3f9245f20d1b4328f8",
            "233aa44cbc8f4e259f9a85a7f9957e09",
            "d17540fc9b2c4dd58814ef1508b609b8",
            "d2b79191216e4a51b3f05475fd49d919",
            "c603c0cc158a414f923b5eda3476ae89",
            "db151ddceb1c47c6a2cc5208dd4b11c1",
            "a55ee8c9903c41b8a59bf5d4a03ac78e",
            "fef5cd3f81654ef9af814fb7ea102b08",
            "92a161922fb14611a5995c44baa67064",
            "3d738a1cea664662b4306a2f470ecf83",
            "354aeefeee4a42daa49cad7d8e15b303",
            "1476ec9c20154d89b3e944d3bb191f61",
            "eb2cb9f7e8aa4b1c8e68c09af4b842b7",
            "208453e735234402bd2f4d6620bef690",
            "8dfd161e41f14269ba5a9b032b568397",
            "2bbf5e823d2a41dfbf7186d3881178fb",
            "a06ed5d69c7243f8a8d3eea9a73a3369",
            "1aca8ddfd8eb4c0c9ad6e5256c78d066",
            "256b539e08914021a885bf51591e1c7a",
            "3b5d4f2b8a874da7832af4567f72191b",
            "3b91410e91904f0f8b0f81a3fc466d3e",
            "83bf4409159c4e3ebff1b46b43df4117",
            "56fc919715d54294b5ca92a866cd7fe8"
          ]
        },
        "id": "272a69db-0416-444a-9be4-5f055ff48bbb",
        "outputId": "7d6befc6-2791-4373-b628-98873fc3ecab",
        "tags": []
      },
      "outputs": [],
      "source": [
        "# Standard MNIST transform.\n",
        "transform = transforms.Compose([\n",
        "    transforms.ToTensor(),\n",
        "    transforms.Normalize((0.1307,), (0.3081,))\n",
        "])\n",
        "\n",
        "# Load MNIST train and test.\n",
        "ds_train = MNIST(root='./data', train=True, download=True, transform=transform)\n",
        "ds_test = MNIST(root='./data', train=False, download=True, transform=transform)\n",
        "\n",
        "# Split train into train and validation.\n",
        "val_size = 5000\n",
        "I = np.random.permutation(len(ds_train))\n",
        "ds_val = Subset(ds_train, I[:val_size])\n",
        "ds_train = Subset(ds_train, I[val_size:])"
      ]
    },
    {
      "cell_type": "markdown",
      "id": "24e05e96-7707-4490-98b8-50cb5e330af1",
      "metadata": {
        "id": "24e05e96-7707-4490-98b8-50cb5e330af1"
      },
      "source": [
        "#### Boilerplate training and evaluation code\n",
        "\n",
        "This is some **very** rough training, evaluation, and plotting code. Again, just to get you started. I will be *very* disappointed if any of this code makes it into your final submission."
      ]
    },
    {
      "cell_type": "code",
      "execution_count": 5,
      "id": "dbcce348-f603-4d57-b9a8-5b1c6eba28ae",
      "metadata": {
        "id": "dbcce348-f603-4d57-b9a8-5b1c6eba28ae",
        "tags": []
      },
      "outputs": [],
      "source": [
        "from tqdm import tqdm\n",
        "from sklearn.metrics import accuracy_score, classification_report\n",
        "\n",
        "# Function to train a model for a single epoch over the data loader.\n",
        "def train_epoch(model, dl, opt, epoch='Unknown', device='cpu'):\n",
        "    model.train()\n",
        "    losses = []\n",
        "    for (xs, ys) in tqdm(dl, desc=f'Training epoch {epoch}', leave=True):\n",
        "        xs = xs.to(device)\n",
        "        ys = ys.to(device)\n",
        "        opt.zero_grad()\n",
        "        logits = model(xs)\n",
        "        loss = F.cross_entropy(logits, ys)\n",
        "        loss.backward()\n",
        "        opt.step()\n",
        "        losses.append(loss.item())\n",
        "    return np.mean(losses)\n",
        "\n",
        "# Function to evaluate model over all samples in the data loader.\n",
        "def evaluate_model(model, dl, device='cpu'):\n",
        "    model.eval()\n",
        "    predictions = []\n",
        "    gts = []\n",
        "    for (xs, ys) in tqdm(dl, desc='Evaluating', leave=False):\n",
        "        xs = xs.to(device)\n",
        "        preds = torch.argmax(model(xs), dim=1)\n",
        "        gts.append(ys)\n",
        "        predictions.append(preds.detach().cpu().numpy())\n",
        "\n",
        "    # Return accuracy score and classification report.\n",
        "    return (accuracy_score(np.hstack(gts), np.hstack(predictions)),\n",
        "            classification_report(np.hstack(gts), np.hstack(predictions), zero_division=0, digits=3))\n",
        "\n",
        "# Simple function to plot the loss curve and validation accuracy.\n",
        "def plot_validation_curves(losses_and_accs):\n",
        "    losses = [x for (x, _) in losses_and_accs]\n",
        "    accs = [x for (_, x) in losses_and_accs]\n",
        "    plt.figure(figsize=(16, 8))\n",
        "    plt.subplot(1, 2, 1)\n",
        "    plt.plot(losses)\n",
        "    plt.xlabel('Epoch')\n",
        "    plt.ylabel('Loss')\n",
        "    plt.title('Average Training Loss per Epoch')\n",
        "    plt.subplot(1, 2, 2)\n",
        "    plt.plot(accs)\n",
        "    plt.xlabel('Epoch')\n",
        "    plt.ylabel('Validation Accuracy')\n",
        "    plt.title(f'Best Accuracy = {np.max(accs)} @ epoch {np.argmax(accs)}')"
      ]
    },
    {
      "cell_type": "markdown",
      "id": "875008c3-306c-4e39-a845-d7bda7862621",
      "metadata": {
        "id": "875008c3-306c-4e39-a845-d7bda7862621"
      },
      "source": [
        "#### A basic, parameterized MLP\n",
        "\n",
        "This is a very basic implementation of a Multilayer Perceptron. Don't waste too much time trying to figure out how it works -- the important detail is that it allows you to pass in a list of input, hidden layer, and output *widths*. **Your** implementation should also support this for the exercises to come."
      ]
    },
    {
      "cell_type": "code",
      "execution_count": 6,
      "id": "8c1e503a-37df-4fb9-94e7-85d0adb494bd",
      "metadata": {
        "id": "8c1e503a-37df-4fb9-94e7-85d0adb494bd",
        "tags": []
      },
      "outputs": [],
      "source": [
        "class MLP(nn.Module):\n",
        "    def __init__(self, layer_sizes):\n",
        "        super().__init__()\n",
        "        self.layers = nn.ModuleList([nn.Linear(nin, nout) for (nin, nout) in zip(layer_sizes[:-1], layer_sizes[1:])])\n",
        "\n",
        "    def forward(self, x):\n",
        "        return reduce(lambda f, g: lambda x: g(F.relu(f(x))), self.layers, lambda x: x.flatten(1))(x)"
      ]
    },
    {
      "cell_type": "markdown",
      "id": "4ae06e26-8fa3-414e-a502-8d1c18ba9eb7",
      "metadata": {
        "id": "4ae06e26-8fa3-414e-a502-8d1c18ba9eb7"
      },
      "source": [
        "#### A *very* minimal training pipeline.\n",
        "\n",
        "Here is some basic training and evaluation code to get you started.\n",
        "\n",
        "**Important**: I cannot stress enough that this is a **terrible** example of how to implement a training pipeline. You can do better!"
      ]
    },
    {
      "cell_type": "code",
      "execution_count": 7,
      "id": "fc89e48f-d8f3-4122-842d-1ff389499854",
      "metadata": {
        "colab": {
          "base_uri": "https://localhost:8080/",
          "height": 1000
        },
        "id": "fc89e48f-d8f3-4122-842d-1ff389499854",
        "outputId": "6dcc8f5e-74f0-4564-cca8-a07ce2f13002",
        "tags": []
      },
      "outputs": [
        {
          "name": "stderr",
          "output_type": "stream",
          "text": [
            "Training epoch 0: 100%|██████████| 430/430 [00:02<00:00, 162.02it/s]\n",
            "Training epoch 1: 100%|██████████| 430/430 [00:02<00:00, 177.31it/s]\n",
            "Training epoch 2: 100%|██████████| 430/430 [00:02<00:00, 182.26it/s]\n",
            "Training epoch 3: 100%|██████████| 430/430 [00:02<00:00, 178.10it/s]\n",
            "Training epoch 4: 100%|██████████| 430/430 [00:02<00:00, 180.63it/s]\n",
            "Training epoch 5: 100%|██████████| 430/430 [00:02<00:00, 177.52it/s]\n",
            "Training epoch 6: 100%|██████████| 430/430 [00:02<00:00, 182.52it/s]\n",
            "Training epoch 7: 100%|██████████| 430/430 [00:02<00:00, 183.16it/s]\n",
            "Training epoch 8: 100%|██████████| 430/430 [00:02<00:00, 183.04it/s]\n",
            "Training epoch 9: 100%|██████████| 430/430 [00:02<00:00, 179.71it/s]\n",
            "Training epoch 10: 100%|██████████| 430/430 [00:02<00:00, 178.11it/s]\n",
            "Training epoch 11: 100%|██████████| 430/430 [00:02<00:00, 183.45it/s]\n",
            "Training epoch 12: 100%|██████████| 430/430 [00:02<00:00, 181.45it/s]\n",
            "Training epoch 13: 100%|██████████| 430/430 [00:02<00:00, 181.19it/s]\n",
            "Training epoch 14: 100%|██████████| 430/430 [00:02<00:00, 180.22it/s]\n",
            "                                                            \r"
          ]
        },
        {
          "name": "stdout",
          "output_type": "stream",
          "text": [
            "Accuracy report on TEST:\n",
            "               precision    recall  f1-score   support\n",
            "\n",
            "           0      0.944     0.980     0.961       980\n",
            "           1      0.966     0.981     0.974      1135\n",
            "           2      0.930     0.886     0.907      1032\n",
            "           3      0.896     0.912     0.904      1010\n",
            "           4      0.912     0.942     0.927       982\n",
            "           5      0.911     0.857     0.883       892\n",
            "           6      0.940     0.946     0.943       958\n",
            "           7      0.922     0.919     0.921      1028\n",
            "           8      0.877     0.881     0.879       974\n",
            "           9      0.907     0.898     0.902      1009\n",
            "\n",
            "    accuracy                          0.921     10000\n",
            "   macro avg      0.920     0.920     0.920     10000\n",
            "weighted avg      0.921     0.921     0.921     10000\n",
            "\n"
          ]
        },
        {
          "data": {
            "image/png": "[encoded data removed]",
            "text/plain": [
              "<Figure size 1600x800 with 2 Axes>"
            ]
          },
          "metadata": {},
          "output_type": "display_data"
        }
      ],
      "source": [
        "# Training hyperparameters.\n",
        "device = 'cuda'\n",
        "epochs = 15\n",
        "lr = 0.0001\n",
        "batch_size = 128\n",
        "\n",
        "# Architecture hyperparameters.\n",
        "input_size = 28*28\n",
        "width = 16\n",
        "depth = 2\n",
        "\n",
        "# Dataloaders.\n",
        "dl_train = torch.utils.data.DataLoader(ds_train, batch_size, shuffle=True, num_workers=4)\n",
        "dl_val   = torch.utils.data.DataLoader(ds_val, batch_size, num_workers=4)\n",
        "dl_test  = torch.utils.data.DataLoader(ds_test, batch_size, shuffle=True, num_workers=4)\n",
        "\n",
        "# Instantiate model and optimizer.\n",
        "model_mlp = MLP([input_size] + [width]*depth + [10]).to(device)\n",
        "opt = torch.optim.Adam(params=model_mlp.parameters(), lr=lr)\n",
        "\n",
        "# Training loop.\n",
        "losses_and_accs = []\n",
        "for epoch in range(epochs):\n",
        "    loss = train_epoch(model_mlp, dl_train, opt, epoch, device=device)\n",
        "    (val_acc, _) = evaluate_model(model_mlp, dl_val, device=device)\n",
        "    losses_and_accs.append((loss, val_acc))\n",
        "\n",
        "# And finally plot the curves.\n",
        "plot_validation_curves(losses_and_accs)\n",
        "print(f'Accuracy report on TEST:\\n {evaluate_model(model_mlp, dl_test, device=device)[1]}')"
      ]
    },
    {
      "cell_type": "markdown",
      "id": "de2cad13-ee2c-4e43-b5c7-31760da8c2df",
      "metadata": {
        "id": "de2cad13-ee2c-4e43-b5c7-31760da8c2df"
      },
      "source": [
        "### Exercise 1.1: A baseline MLP\n",
        "\n",
        "Implement a *simple* Multilayer Perceptron to classify the 10 digits of MNIST (e.g. two *narrow* layers). Use my code above as inspiration, but implement your own training pipeline -- you will need it later. Train this model to convergence, monitoring (at least) the loss and accuracy on the training and validation sets for every epoch. Below I include a basic implementation to get you started -- remember that you should write your *own* pipeline!\n",
        "\n",
        "**Note**: This would be a good time to think about *abstracting* your model definition, and training and evaluation pipelines in order to make it easier to compare performance of different models.\n",
        "\n",
        "**Important**: Given the *many* runs you will need to do, and the need to *compare* performance between them, this would **also** be a great point to study how **Tensorboard** or **Weights and Biases** can be used for performance monitoring.# Your code here."
      ]
    },
    {
      "cell_type": "code",
      "execution_count": 8,
      "id": "xnaw4Lel4HOv",
      "metadata": {
        "id": "xnaw4Lel4HOv"
      },
      "outputs": [],
      "source": [
        "class my_MLP(nn.Module):\n",
        "    def __init__(self, input_size,output_size,width,depth_size):\n",
        "        super().__init__()\n",
        "        self.layers = nn.Sequential()\n",
        "        # Input layer\n",
        "        self.layers.append(nn.Flatten())\n",
        "        self.layers.append(nn.Linear(input_size,width))\n",
        "        self.layers.append(nn.ReLU())\n",
        "\n",
        "        # Hidden layers\n",
        "        for i in range(depth_size):\n",
        "            self.layers.append(nn.Linear(width,width))\n",
        "            self.layers.append(nn.ReLU())\n",
        "\n",
        "        # Output layer\n",
        "        self.layers.append(nn.Linear(width,output_size))\n",
        "\n",
        "    def forward(self, x):\n",
        "        out = self.layers(x)\n",
        "        return out"
      ]
    },
    {
      "cell_type": "code",
      "execution_count": 9,
      "id": "qBvR5JbZv0Te",
      "metadata": {
        "id": "qBvR5JbZv0Te"
      },
      "outputs": [],
      "source": [
        "def get_accuracy(logits,targets):\n",
        "    _, predictions = torch.max(logits, dim=-1)\n",
        "    accuracy = torch.mean(predictions.eq(targets).float())\n",
        "    return accuracy"
      ]
    },
    {
      "cell_type": "code",
      "execution_count": 10,
      "id": "zCegQdLkACrQ",
      "metadata": {
        "colab": {
          "base_uri": "https://localhost:8080/"
        },
        "id": "zCegQdLkACrQ",
        "outputId": "fde98972-588a-4af3-b437-aafd37ce9098"
      },
      "outputs": [],
      "source": [
        "import wandb"
      ]
    },
    {
      "cell_type": "code",
      "execution_count": 11,
      "id": "19d96405-36e7-4074-803c-fb02576cd528",
      "metadata": {
        "id": "19d96405-36e7-4074-803c-fb02576cd528",
        "tags": []
      },
      "outputs": [],
      "source": [
        "def train_mlp(model, epochs, dl_train, dl_val , opt, num_layers):\n",
        "\n",
        "\n",
        "    losses = []\n",
        "    accuracies = []\n",
        "\n",
        "    for epoch in range(epochs):\n",
        "      loss = []\n",
        "      accuracy = []\n",
        "\n",
        "      for (x_train, y_train) in tqdm(dl_train, desc=f'Training epoch {epoch}', leave=True):\n",
        "\n",
        "        model.train()\n",
        "        x_train = x_train.to(device)\n",
        "        y_train = y_train.to(device)\n",
        "        opt.zero_grad()\n",
        "\n",
        "        logits = model(x_train)\n",
        "        ls = F.cross_entropy(logits, y_train)\n",
        "        ls.backward()\n",
        "\n",
        "        loss.append(ls.item())\n",
        "\n",
        "        opt.step()\n",
        "\n",
        "      loss =  np.mean(loss)\n",
        "      \n",
        "      for (x_val, y_val) in tqdm(dl_val, desc=f'Eval epoch {epoch}', leave=False):\n",
        "\n",
        "        model.eval()\n",
        "        x_val = x_val.to(device)\n",
        "        y_val = y_val.to(device)\n",
        "\n",
        "        logits_val = model(x_val)\n",
        "        acc = get_accuracy(logits_val.detach(),y_val)\n",
        "        accuracy.append(acc.cpu())\n",
        "\n",
        "      accuracy = np.mean(accuracy)\n",
        "\n",
        "      # Appending losses and accuracies\n",
        "\n",
        "      wandb.log({\"loss\": loss, \"accuracy\": accuracy})\n",
        "      losses.append(loss)\n",
        "      accuracies.append(accuracy)\n",
        "\n",
        "    return losses, accuracies"
      ]
    },
    {
      "cell_type": "markdown",
      "id": "BveLf0DZmbw2",
      "metadata": {
        "id": "BveLf0DZmbw2"
      },
      "source": [
        "Dichiaro più modelli per più profondità"
      ]
    },
    {
      "cell_type": "code",
      "execution_count": 12,
      "id": "jBWQMFkcmiaP",
      "metadata": {
        "colab": {
          "base_uri": "https://localhost:8080/"
        },
        "id": "jBWQMFkcmiaP",
        "outputId": "2ac83a3c-6382-48b7-c66c-211198409161"
      },
      "outputs": [],
      "source": [
        "# Training hyperparameters - locked\n",
        "device = 'cuda'\n",
        "epochs = 15\n",
        "lr = 0.0001\n",
        "batch_size = 128\n",
        "\n",
        "# Architecture 1 hyperparameters.\n",
        "input_size = 28*28\n",
        "output_size = 10\n",
        "width = 16\n",
        "depth_2 = 2\n",
        "\n",
        "# Architecture 2 hyperparameters - 10x more depth\n",
        "depth_6 = 6\n",
        "\n",
        "# Dataloaders.\n",
        "dl_train = torch.utils.data.DataLoader(ds_train, batch_size, shuffle=True, num_workers=4)\n",
        "dl_val   = torch.utils.data.DataLoader(ds_val, batch_size, num_workers=4)\n",
        "dl_test  = torch.utils.data.DataLoader(ds_test, batch_size, shuffle=True, num_workers=4)\n",
        "\n",
        "# Instantiate models and optimizers\n",
        "# Model 1: depth = 2\n",
        "model_mlp_2 = my_MLP(input_size,output_size,width,depth_2).to(device)\n",
        "opt_2 = torch.optim.Adam(params=model_mlp_2.parameters(), lr=lr)\n",
        "\n",
        "# Model 2: depth = 6\n",
        "model_mlp_6 = my_MLP(input_size,output_size,width,depth_6).to(device)\n",
        "opt_6 = torch.optim.Adam(params=model_mlp_6.parameters(), lr=lr)"
      ]
    },
    {
      "cell_type": "markdown",
      "id": "8ASjqYJt0xDM",
      "metadata": {
        "id": "8ASjqYJt0xDM"
      },
      "source": [
        "Chiamo train con vari parametri di profondità"
      ]
    },
    {
      "cell_type": "code",
      "execution_count": 13,
      "id": "x2B4RmpR0wsL",
      "metadata": {
        "id": "x2B4RmpR0wsL"
      },
      "outputs": [
        {
          "name": "stderr",
          "output_type": "stream",
          "text": [
            "Failed to detect the name of this notebook, you can set it manually with the WANDB_NOTEBOOK_NAME environment variable to enable code saving.\n"
          ]
        },
        {
          "name": "stderr",
          "output_type": "stream",
          "text": [
            "\u001b[34m\u001b[1mwandb\u001b[0m: Currently logged in as: \u001b[33mmagrinigab\u001b[0m. Use \u001b[1m`wandb login --relogin`\u001b[0m to force relogin\n"
          ]
        },
        {
          "data": {
            "text/html": [
              "wandb version 0.15.7 is available!  To upgrade, please run:\n",
              " $ pip install wandb --upgrade"
            ],
            "text/plain": [
              "<IPython.core.display.HTML object>"
            ]
          },
          "metadata": {},
          "output_type": "display_data"
        },
        {
          "data": {
            "text/html": [
              "Tracking run with wandb version 0.15.5"
            ],
            "text/plain": [
              "<IPython.core.display.HTML object>"
            ]
          },
          "metadata": {},
          "output_type": "display_data"
        },
        {
          "data": {
            "text/html": [
              "Run data is saved locally in <code>/home/magro/Desktop/Lab_DLA/Lab_1/wandb/run-20230731_145807-tvd8v2u3</code>"
            ],
            "text/plain": [
              "<IPython.core.display.HTML object>"
            ]
          },
          "metadata": {},
          "output_type": "display_data"
        },
        {
          "data": {
            "text/html": [
              "Syncing run <strong><a href='https://wandb.ai/magrinigab/dl-lab-1/runs/tvd8v2u3' target=\"_blank\">giddy-wildflower-27</a></strong> to <a href='https://wandb.ai/magrinigab/dl-lab-1' target=\"_blank\">Weights & Biases</a> (<a href='https://wandb.me/run' target=\"_blank\">docs</a>)<br/>"
            ],
            "text/plain": [
              "<IPython.core.display.HTML object>"
            ]
          },
          "metadata": {},
          "output_type": "display_data"
        },
        {
          "data": {
            "text/html": [
              " View project at <a href='https://wandb.ai/magrinigab/dl-lab-1' target=\"_blank\">https://wandb.ai/magrinigab/dl-lab-1</a>"
            ],
            "text/plain": [
              "<IPython.core.display.HTML object>"
            ]
          },
          "metadata": {},
          "output_type": "display_data"
        },
        {
          "data": {
            "text/html": [
              " View run at <a href='https://wandb.ai/magrinigab/dl-lab-1/runs/tvd8v2u3' target=\"_blank\">https://wandb.ai/magrinigab/dl-lab-1/runs/tvd8v2u3</a>"
            ],
            "text/plain": [
              "<IPython.core.display.HTML object>"
            ]
          },
          "metadata": {},
          "output_type": "display_data"
        },
        {
          "name": "stderr",
          "output_type": "stream",
          "text": [
            "Training epoch 0: 100%|██████████| 430/430 [00:02<00:00, 178.33it/s]\n",
            "Training epoch 1: 100%|██████████| 430/430 [00:02<00:00, 183.38it/s]\n",
            "Training epoch 2: 100%|██████████| 430/430 [00:02<00:00, 184.31it/s]\n",
            "Training epoch 3: 100%|██████████| 430/430 [00:02<00:00, 178.67it/s]\n",
            "Training epoch 4: 100%|██████████| 430/430 [00:02<00:00, 177.53it/s]\n",
            "Training epoch 5: 100%|██████████| 430/430 [00:02<00:00, 178.92it/s]\n",
            "Training epoch 6: 100%|██████████| 430/430 [00:02<00:00, 178.43it/s]\n",
            "Training epoch 7: 100%|██████████| 430/430 [00:02<00:00, 177.90it/s]\n",
            "Training epoch 8: 100%|██████████| 430/430 [00:02<00:00, 178.04it/s]\n",
            "Training epoch 9: 100%|██████████| 430/430 [00:02<00:00, 179.79it/s]\n",
            "Training epoch 10: 100%|██████████| 430/430 [00:02<00:00, 181.46it/s]\n",
            "Training epoch 11: 100%|██████████| 430/430 [00:02<00:00, 180.35it/s]\n",
            "Training epoch 12: 100%|██████████| 430/430 [00:02<00:00, 178.98it/s]\n",
            "Training epoch 13: 100%|██████████| 430/430 [00:02<00:00, 175.97it/s]\n",
            "Training epoch 14: 100%|██████████| 430/430 [00:02<00:00, 181.78it/s]\n",
            "                                                              \r"
          ]
        },
        {
          "data": {
            "text/html": [
              "Waiting for W&B process to finish... <strong style=\"color:green\">(success).</strong>"
            ],
            "text/plain": [
              "<IPython.core.display.HTML object>"
            ]
          },
          "metadata": {},
          "output_type": "display_data"
        },
        {
          "data": {
            "text/html": [
              "<style>\n",
              "    table.wandb td:nth-child(1) { padding: 0 10px; text-align: left ; width: auto;} td:nth-child(2) {text-align: left ; width: 100%}\n",
              "    .wandb-row { display: flex; flex-direction: row; flex-wrap: wrap; justify-content: flex-start; width: 100% }\n",
              "    .wandb-col { display: flex; flex-direction: column; flex-basis: 100%; flex: 1; padding: 10px; }\n",
              "    </style>\n",
              "<div class=\"wandb-row\"><div class=\"wandb-col\"><h3>Run history:</h3><br/><table class=\"wandb\"><tr><td>accuracy</td><td>▁▅▆▇▇▇▇████████</td></tr><tr><td>loss</td><td>█▄▃▂▂▂▁▁▁▁▁▁▁▁▁</td></tr></table><br/></div><div class=\"wandb-col\"><h3>Run summary:</h3><br/><table class=\"wandb\"><tr><td>accuracy</td><td>0.91152</td></tr><tr><td>loss</td><td>0.27947</td></tr></table><br/></div></div>"
            ],
            "text/plain": [
              "<IPython.core.display.HTML object>"
            ]
          },
          "metadata": {},
          "output_type": "display_data"
        },
        {
          "data": {
            "text/html": [
              " View run <strong style=\"color:#cdcd00\">giddy-wildflower-27</strong> at: <a href='https://wandb.ai/magrinigab/dl-lab-1/runs/tvd8v2u3' target=\"_blank\">https://wandb.ai/magrinigab/dl-lab-1/runs/tvd8v2u3</a><br/>Synced 5 W&B file(s), 0 media file(s), 0 artifact file(s) and 0 other file(s)"
            ],
            "text/plain": [
              "<IPython.core.display.HTML object>"
            ]
          },
          "metadata": {},
          "output_type": "display_data"
        },
        {
          "data": {
            "text/html": [
              "Find logs at: <code>./wandb/run-20230731_145807-tvd8v2u3/logs</code>"
            ],
            "text/plain": [
              "<IPython.core.display.HTML object>"
            ]
          },
          "metadata": {},
          "output_type": "display_data"
        },
        {
          "data": {
            "text/html": [
              "wandb version 0.15.7 is available!  To upgrade, please run:\n",
              " $ pip install wandb --upgrade"
            ],
            "text/plain": [
              "<IPython.core.display.HTML object>"
            ]
          },
          "metadata": {},
          "output_type": "display_data"
        },
        {
          "data": {
            "text/html": [
              "Tracking run with wandb version 0.15.5"
            ],
            "text/plain": [
              "<IPython.core.display.HTML object>"
            ]
          },
          "metadata": {},
          "output_type": "display_data"
        },
        {
          "data": {
            "text/html": [
              "Run data is saved locally in <code>/home/magro/Desktop/Lab_DLA/Lab_1/wandb/run-20230731_145858-bzwv2e96</code>"
            ],
            "text/plain": [
              "<IPython.core.display.HTML object>"
            ]
          },
          "metadata": {},
          "output_type": "display_data"
        },
        {
          "data": {
            "text/html": [
              "Syncing run <strong><a href='https://wandb.ai/magrinigab/dl-lab-1/runs/bzwv2e96' target=\"_blank\">blooming-sky-28</a></strong> to <a href='https://wandb.ai/magrinigab/dl-lab-1' target=\"_blank\">Weights & Biases</a> (<a href='https://wandb.me/run' target=\"_blank\">docs</a>)<br/>"
            ],
            "text/plain": [
              "<IPython.core.display.HTML object>"
            ]
          },
          "metadata": {},
          "output_type": "display_data"
        },
        {
          "data": {
            "text/html": [
              " View project at <a href='https://wandb.ai/magrinigab/dl-lab-1' target=\"_blank\">https://wandb.ai/magrinigab/dl-lab-1</a>"
            ],
            "text/plain": [
              "<IPython.core.display.HTML object>"
            ]
          },
          "metadata": {},
          "output_type": "display_data"
        },
        {
          "data": {
            "text/html": [
              " View run at <a href='https://wandb.ai/magrinigab/dl-lab-1/runs/bzwv2e96' target=\"_blank\">https://wandb.ai/magrinigab/dl-lab-1/runs/bzwv2e96</a>"
            ],
            "text/plain": [
              "<IPython.core.display.HTML object>"
            ]
          },
          "metadata": {},
          "output_type": "display_data"
        },
        {
          "name": "stderr",
          "output_type": "stream",
          "text": [
            "Training epoch 0: 100%|██████████| 430/430 [00:02<00:00, 181.96it/s]\n",
            "Training epoch 1: 100%|██████████| 430/430 [00:02<00:00, 182.50it/s]\n",
            "Training epoch 2: 100%|██████████| 430/430 [00:02<00:00, 180.44it/s]\n",
            "Training epoch 3: 100%|██████████| 430/430 [00:02<00:00, 180.21it/s]\n",
            "Training epoch 4: 100%|██████████| 430/430 [00:02<00:00, 181.06it/s]\n",
            "Training epoch 5: 100%|██████████| 430/430 [00:02<00:00, 181.84it/s]\n",
            "Training epoch 6: 100%|██████████| 430/430 [00:02<00:00, 176.58it/s]\n",
            "Training epoch 7: 100%|██████████| 430/430 [00:02<00:00, 180.64it/s]\n",
            "Training epoch 8: 100%|██████████| 430/430 [00:02<00:00, 184.21it/s]\n",
            "Training epoch 9: 100%|██████████| 430/430 [00:02<00:00, 178.97it/s]\n",
            "Training epoch 10: 100%|██████████| 430/430 [00:02<00:00, 174.86it/s]\n",
            "Training epoch 11: 100%|██████████| 430/430 [00:02<00:00, 178.62it/s]\n",
            "Training epoch 12: 100%|██████████| 430/430 [00:02<00:00, 181.39it/s]\n",
            "Training epoch 13: 100%|██████████| 430/430 [00:02<00:00, 176.77it/s]\n",
            "Training epoch 14: 100%|██████████| 430/430 [00:02<00:00, 179.44it/s]\n",
            "                                                              \r"
          ]
        },
        {
          "data": {
            "text/html": [
              "Waiting for W&B process to finish... <strong style=\"color:green\">(success).</strong>"
            ],
            "text/plain": [
              "<IPython.core.display.HTML object>"
            ]
          },
          "metadata": {},
          "output_type": "display_data"
        },
        {
          "data": {
            "text/html": [
              "<style>\n",
              "    table.wandb td:nth-child(1) { padding: 0 10px; text-align: left ; width: auto;} td:nth-child(2) {text-align: left ; width: 100%}\n",
              "    .wandb-row { display: flex; flex-direction: row; flex-wrap: wrap; justify-content: flex-start; width: 100% }\n",
              "    .wandb-col { display: flex; flex-direction: column; flex-basis: 100%; flex: 1; padding: 10px; }\n",
              "    </style>\n",
              "<div class=\"wandb-row\"><div class=\"wandb-col\"><h3>Run history:</h3><br/><table class=\"wandb\"><tr><td>accuracy</td><td>▁▄▆▆▇▇▇▇███████</td></tr><tr><td>loss</td><td>█▆▄▃▃▂▂▂▂▁▁▁▁▁▁</td></tr></table><br/></div><div class=\"wandb-col\"><h3>Run summary:</h3><br/><table class=\"wandb\"><tr><td>accuracy</td><td>0.83613</td></tr><tr><td>loss</td><td>0.52273</td></tr></table><br/></div></div>"
            ],
            "text/plain": [
              "<IPython.core.display.HTML object>"
            ]
          },
          "metadata": {},
          "output_type": "display_data"
        },
        {
          "data": {
            "text/html": [
              " View run <strong style=\"color:#cdcd00\">blooming-sky-28</strong> at: <a href='https://wandb.ai/magrinigab/dl-lab-1/runs/bzwv2e96' target=\"_blank\">https://wandb.ai/magrinigab/dl-lab-1/runs/bzwv2e96</a><br/>Synced 5 W&B file(s), 0 media file(s), 0 artifact file(s) and 0 other file(s)"
            ],
            "text/plain": [
              "<IPython.core.display.HTML object>"
            ]
          },
          "metadata": {},
          "output_type": "display_data"
        },
        {
          "data": {
            "text/html": [
              "Find logs at: <code>./wandb/run-20230731_145858-bzwv2e96/logs</code>"
            ],
            "text/plain": [
              "<IPython.core.display.HTML object>"
            ]
          },
          "metadata": {},
          "output_type": "display_data"
        }
      ],
      "source": [
        "wandb.init(project=\"dl-lab-1\", config={\n",
        "    \"epochs\": 15,\n",
        "    \"batch_size\": 128,\n",
        "    \"learning_rate\": 0.0001,\n",
        "    \"architecture\": \"MLP\",\n",
        "    \"depth\": 2\n",
        "})\n",
        "loss_2, accuracy_2 = train_mlp(model_mlp_2, epochs, dl_train, dl_val, opt_2, depth_2)\n",
        "wandb.finish()\n",
        "\n",
        "wandb.init(project=\"dl-lab-1\", config={\n",
        "    \"epochs\": 15,\n",
        "    \"batch_size\": 128,\n",
        "    \"learning_rate\": 0.0001,\n",
        "    \"architecture\": \"MLP\",\n",
        "    \"depth\": 6\n",
        "})\n",
        "loss_6, accuracy_6 = train_mlp(model_mlp_6, epochs, dl_train, dl_val, opt_6, depth_6)\n",
        "wandb.finish()"
      ]
    },
    {
      "cell_type": "code",
      "execution_count": 14,
      "id": "TDAK7-ww_cUr",
      "metadata": {
        "colab": {
          "base_uri": "https://localhost:8080/",
          "height": 513
        },
        "id": "TDAK7-ww_cUr",
        "outputId": "23196aa3-2265-4ab8-9d89-a2ac5149485b"
      },
      "outputs": [
        {
          "data": {
            "image/png": "[encoded data removed]",
            "text/plain": [
              "<Figure size 640x480 with 1 Axes>"
            ]
          },
          "metadata": {},
          "output_type": "display_data"
        },
        {
          "data": {
            "image/png": "[encoded data removed]",
            "text/plain": [
              "<Figure size 640x480 with 1 Axes>"
            ]
          },
          "metadata": {},
          "output_type": "display_data"
        }
      ],
      "source": [
        "plt.plot(loss_2)\n",
        "plt.show()\n",
        "\n",
        "plt.plot(accuracy_2)\n",
        "plt.show()"
      ]
    },
    {
      "cell_type": "code",
      "execution_count": 15,
      "id": "jKOb3zRPolxO",
      "metadata": {
        "colab": {
          "base_uri": "https://localhost:8080/",
          "height": 513
        },
        "id": "jKOb3zRPolxO",
        "outputId": "fb4fd6cc-c88f-4710-cb52-029db93fd979"
      },
      "outputs": [
        {
          "data": {
            "image/png": "[encoded data removed]",
            "text/plain": [
              "<Figure size 640x480 with 1 Axes>"
            ]
          },
          "metadata": {},
          "output_type": "display_data"
        },
        {
          "data": {
            "image/png": "[encoded data removed]",
            "text/plain": [
              "<Figure size 640x480 with 1 Axes>"
            ]
          },
          "metadata": {},
          "output_type": "display_data"
        }
      ],
      "source": [
        "plt.plot(loss_6)\n",
        "plt.show()\n",
        "\n",
        "plt.plot(accuracy_6)\n",
        "plt.show()"
      ]
    },
    {
      "cell_type": "markdown",
      "id": "UWoBqC_bRtB6",
      "metadata": {
        "id": "UWoBqC_bRtB6"
      },
      "source": [
        "E ora test set"
      ]
    },
    {
      "cell_type": "code",
      "execution_count": 16,
      "id": "P2Vs8ZVNR8oN",
      "metadata": {
        "id": "P2Vs8ZVNR8oN"
      },
      "outputs": [],
      "source": [
        "def testing(model,dl_test):\n",
        "  accuracy = []\n",
        "  for (x_val, y_val) in tqdm(dl_test, leave=False):\n",
        "\n",
        "        model.eval()\n",
        "        x_val = x_val.to(device)\n",
        "        y_val = y_val.to(device)\n",
        "\n",
        "        logits_val = model(x_val)\n",
        "        acc = get_accuracy(logits_val.detach(),y_val)\n",
        "        accuracy.append(acc.cpu())\n",
        "\n",
        "  accuracy = np.mean(accuracy)\n",
        "  return accuracy"
      ]
    },
    {
      "cell_type": "code",
      "execution_count": 17,
      "id": "aX8YTBH2RuLu",
      "metadata": {
        "colab": {
          "base_uri": "https://localhost:8080/"
        },
        "id": "aX8YTBH2RuLu",
        "outputId": "506eae05-59d8-4ffb-9c56-de512636375e"
      },
      "outputs": [
        {
          "name": "stderr",
          "output_type": "stream",
          "text": [
            "                                                "
          ]
        },
        {
          "name": "stdout",
          "output_type": "stream",
          "text": [
            "0.9176226\n"
          ]
        },
        {
          "name": "stderr",
          "output_type": "stream",
          "text": [
            "\r"
          ]
        }
      ],
      "source": [
        "print(testing(model_mlp_2,dl_test))\n"
      ]
    },
    {
      "cell_type": "code",
      "execution_count": 18,
      "id": "2db71526",
      "metadata": {},
      "outputs": [
        {
          "name": "stderr",
          "output_type": "stream",
          "text": [
            "                                                "
          ]
        },
        {
          "name": "stdout",
          "output_type": "stream",
          "text": [
            "0.8477057\n"
          ]
        },
        {
          "name": "stderr",
          "output_type": "stream",
          "text": [
            "\r"
          ]
        }
      ],
      "source": [
        "print(testing(model_mlp_6,dl_test))"
      ]
    },
    {
      "cell_type": "markdown",
      "id": "0fb8ad9b-e3ae-4c49-9bec-35aaea149b08",
      "metadata": {
        "id": "0fb8ad9b-e3ae-4c49-9bec-35aaea149b08"
      },
      "source": [
        "### Exercise 1.2: Rinse and Repeat\n",
        "\n",
        "Repeat the verification you did above, but with **Convolutional** Neural Networks. If you were careful about abstracting your model and training code, this should be a simple exercise. Show that **deeper** CNNs *without* residual connections do not always work better and **even deeper** ones *with* residual connections.\n",
        "\n",
        "**Hint**: You probably should do this exercise using CIFAR10, since MNIST is *very* easy (at least up to about 99% accuracy).\n",
        "\n",
        "**Spoiler**: If you plan to do optional exercise 3.3, you should think *very* carefully about the architectures of your CNNs here (so you can reuse them!).### Exercise 1.1: A baseline MLP"
      ]
    },
    {
      "cell_type": "code",
      "execution_count": 19,
      "id": "zVdjD0PjNqMS",
      "metadata": {
        "colab": {
          "base_uri": "https://localhost:8080/",
          "height": 101,
          "referenced_widgets": [
            "2d1ce036a93e48a18c14ff8f0875c79f",
            "21aaece50b6f49aca968534ae188c53f",
            "41cd423047d44379b3634f5490617507",
            "c1c16f594d884eedb3ed8d5d1afb65a8",
            "e0d979f8f10045ebb1986eb37cf49819",
            "faf93d3876b1495aa8b552f573e1c921",
            "0507e6c90d9e418f9a0ddfdb148981ac",
            "480299329b2748cbb58e8de73de32adf",
            "a633ea9fc1d74c76a3a6084d5a6f8539",
            "0dea0dd86212462eab912342227bd2cf",
            "2906509412b746c190c5fcb5ad9b4e62"
          ]
        },
        "id": "zVdjD0PjNqMS",
        "outputId": "d3f68433-da9f-4e8e-a00a-abfdee1b8f66"
      },
      "outputs": [
        {
          "name": "stdout",
          "output_type": "stream",
          "text": [
            "Files already downloaded and verified\n",
            "Files already downloaded and verified\n"
          ]
        }
      ],
      "source": [
        "from torchvision.datasets import CIFAR10\n",
        "\n",
        "transform = transforms.Compose(\n",
        "    [transforms.ToTensor(),\n",
        "     transforms.Normalize((0.5, 0.5, 0.5), (0.5, 0.5, 0.5))]\n",
        "     )\n",
        "\n",
        "batch_size = 32\n",
        "\n",
        "# Load CIFAR10 train and test.\n",
        "ds_train = CIFAR10(root='./data', train=True, download=True, transform=transform)\n",
        "ds_test = CIFAR10(root='./data', train=False, download=True, transform=transform)\n",
        "\n",
        "# Split train into train and validation.\n",
        "val_size = 5000\n",
        "I = np.random.permutation(len(ds_train))\n",
        "ds_val = Subset(ds_train, I[:val_size])\n",
        "ds_train = Subset(ds_train, I[val_size:])\n",
        "\n"
      ]
    },
    {
      "cell_type": "markdown",
      "id": "GznrrFTodDMT",
      "metadata": {
        "id": "GznrrFTodDMT"
      },
      "source": [
        "Conv block"
      ]
    },
    {
      "cell_type": "code",
      "execution_count": 20,
      "id": "EPV7PrlkdEKT",
      "metadata": {
        "id": "EPV7PrlkdEKT"
      },
      "outputs": [],
      "source": [
        "def conv3x3_pool(in_channels, out_channels):\n",
        "    return nn.Sequential(\n",
        "        nn.Conv2d(in_channels, out_channels, kernel_size=3, padding=1),\n",
        "        nn.ReLU(),\n",
        "        nn.MaxPool2d(kernel_size=2, stride=2)\n",
        "    )\n",
        "\n",
        "def conv3x3_same(in_channels, out_channels):\n",
        "    return nn.Sequential(\n",
        "        nn.Conv2d(in_channels, out_channels, kernel_size=3, padding=1),\n",
        "        nn.ReLU(),\n",
        "    )"
      ]
    },
    {
      "cell_type": "markdown",
      "id": "5Y-eShQeQxmf",
      "metadata": {
        "id": "5Y-eShQeQxmf"
      },
      "source": [
        "CONVOLUTIONAL ARCHTECTURE"
      ]
    },
    {
      "cell_type": "code",
      "execution_count": 66,
      "id": "4WEG232cLdrZ",
      "metadata": {
        "colab": {
          "base_uri": "https://localhost:8080/",
          "height": 235
        },
        "id": "4WEG232cLdrZ",
        "outputId": "553b8c25-8e85-4bf4-fbb9-5f2d0fbf6ac9"
      },
      "outputs": [],
      "source": [
        "class my_conv(nn.Module):\n",
        "    def __init__(self,depth_size,residual):\n",
        "        super().__init__()\n",
        "        # Input layer\n",
        "        self.input_layer = nn.Sequential(\n",
        "          conv3x3_pool(3,64),      #16\n",
        "          conv3x3_pool(64,128),   #8\n",
        "          conv3x3_pool(128,256)  #4\n",
        "        )\n",
        "\n",
        "        self.layers = nn.Sequential()\n",
        "        # Hidden layers\n",
        "        for i in range(depth_size):\n",
        "            self.layers.append(conv3x3_same(256,256))\n",
        "\n",
        "        # Output layer\n",
        "        self.output_layer = nn.Sequential(\n",
        "              nn.Flatten(),\n",
        "              nn.Linear(4096,128),\n",
        "              nn.ReLU(),\n",
        "              nn.Linear(128,10)\n",
        "        )\n",
        "\n",
        "        self.residual = residual\n",
        "\n",
        "    def forward(self, x):\n",
        "        out = self.input_layer(x)\n",
        "        for layer in self.layers:\n",
        "            residual = out\n",
        "            out = layer(out)\n",
        "            if self.residual:\n",
        "                out = out + residual\n",
        "\n",
        "        out = self.output_layer(out)\n",
        "        return out"
      ]
    },
    {
      "cell_type": "code",
      "execution_count": 56,
      "id": "3c8baa0e-b17f-4a77-8a88-dadfdc6763ea",
      "metadata": {
        "id": "3c8baa0e-b17f-4a77-8a88-dadfdc6763ea"
      },
      "outputs": [],
      "source": [
        "# Training hyperparameters - locked\n",
        "device = 'cuda'\n",
        "epochs = 15\n",
        "lr = 0.001\n",
        "batch_size = 32\n",
        "\n",
        "# Architecture 1 hyperparameters.\n",
        "width = 16\n",
        "depth_2 = 2\n",
        "depth_6 = 6\n",
        "# Dataloaders.\n",
        "dl_train = torch.utils.data.DataLoader(ds_train, batch_size, shuffle=True, num_workers=4)\n",
        "dl_val   = torch.utils.data.DataLoader(ds_val, batch_size, num_workers=4)\n",
        "dl_test  = torch.utils.data.DataLoader(ds_test, batch_size, shuffle=True, num_workers=4)\n",
        "\n",
        "# Instantiate models and optimizers\n",
        "# Model 1: depth = 2\n",
        "model_conv = my_conv(depth_2, True).to(device)\n",
        "opt_2 = torch.optim.Adam(params=model_conv.parameters(), lr=lr)\n"
      ]
    },
    {
      "cell_type": "code",
      "execution_count": 63,
      "id": "a7fc5ef6",
      "metadata": {},
      "outputs": [
        {
          "data": {
            "text/plain": [
              "my_conv(\n",
              "  (input_layer): Sequential(\n",
              "    (0): Sequential(\n",
              "      (0): Conv2d(3, 64, kernel_size=(3, 3), stride=(1, 1), padding=(1, 1))\n",
              "      (1): ReLU()\n",
              "      (2): MaxPool2d(kernel_size=2, stride=2, padding=0, dilation=1, ceil_mode=False)\n",
              "    )\n",
              "    (1): Sequential(\n",
              "      (0): Conv2d(64, 128, kernel_size=(3, 3), stride=(1, 1), padding=(1, 1))\n",
              "      (1): ReLU()\n",
              "      (2): MaxPool2d(kernel_size=2, stride=2, padding=0, dilation=1, ceil_mode=False)\n",
              "    )\n",
              "    (2): Sequential(\n",
              "      (0): Conv2d(128, 256, kernel_size=(3, 3), stride=(1, 1), padding=(1, 1))\n",
              "      (1): ReLU()\n",
              "      (2): MaxPool2d(kernel_size=2, stride=2, padding=0, dilation=1, ceil_mode=False)\n",
              "    )\n",
              "  )\n",
              "  (layers): Sequential(\n",
              "    (0): Sequential(\n",
              "      (0): Conv2d(256, 256, kernel_size=(3, 3), stride=(1, 1), padding=(1, 1))\n",
              "      (1): ReLU()\n",
              "    )\n",
              "    (1): Sequential(\n",
              "      (0): Conv2d(256, 256, kernel_size=(3, 3), stride=(1, 1), padding=(1, 1))\n",
              "      (1): ReLU()\n",
              "    )\n",
              "  )\n",
              "  (output_layer): Sequential(\n",
              "    (0): Flatten(start_dim=1, end_dim=-1)\n",
              "    (1): Linear(in_features=4096, out_features=128, bias=True)\n",
              "    (2): ReLU()\n",
              "    (3): Linear(in_features=128, out_features=10, bias=True)\n",
              "  )\n",
              ")"
            ]
          },
          "execution_count": 63,
          "metadata": {},
          "output_type": "execute_result"
        }
      ],
      "source": [
        "model_conv"
      ]
    },
    {
      "cell_type": "code",
      "execution_count": 57,
      "id": "srcBdN35NQTb",
      "metadata": {
        "id": "srcBdN35NQTb"
      },
      "outputs": [
        {
          "name": "stderr",
          "output_type": "stream",
          "text": [
            "Training epoch 0: 100%|██████████| 1407/1407 [00:03<00:00, 418.25it/s]\n",
            "Training epoch 1: 100%|██████████| 1407/1407 [00:03<00:00, 419.57it/s]\n",
            "Training epoch 2: 100%|██████████| 1407/1407 [00:03<00:00, 432.91it/s]\n",
            "Training epoch 3: 100%|██████████| 1407/1407 [00:03<00:00, 427.32it/s]\n",
            "Training epoch 4: 100%|██████████| 1407/1407 [00:03<00:00, 425.60it/s]\n",
            "Training epoch 5: 100%|██████████| 1407/1407 [00:03<00:00, 423.38it/s]\n",
            "Training epoch 6: 100%|██████████| 1407/1407 [00:03<00:00, 436.70it/s]\n",
            "Training epoch 7: 100%|██████████| 1407/1407 [00:03<00:00, 435.85it/s]\n",
            "Training epoch 8: 100%|██████████| 1407/1407 [00:03<00:00, 425.97it/s]\n",
            "Training epoch 9: 100%|██████████| 1407/1407 [00:03<00:00, 420.08it/s]\n",
            "Training epoch 10: 100%|██████████| 1407/1407 [00:03<00:00, 428.12it/s]\n",
            "Training epoch 11: 100%|██████████| 1407/1407 [00:03<00:00, 431.74it/s]\n",
            "Training epoch 12: 100%|██████████| 1407/1407 [00:03<00:00, 428.64it/s]\n",
            "Training epoch 13: 100%|██████████| 1407/1407 [00:03<00:00, 418.43it/s]\n",
            "Training epoch 14: 100%|██████████| 1407/1407 [00:03<00:00, 420.43it/s]\n",
            "                                                                 \r"
          ]
        }
      ],
      "source": [
        "loss_2, accuracy_2 = train_mlp(model_conv, epochs, dl_train, dl_val, opt_2, depth_2)"
      ]
    },
    {
      "cell_type": "code",
      "execution_count": 131,
      "id": "ee75be83",
      "metadata": {},
      "outputs": [
        {
          "name": "stdout",
          "output_type": "stream",
          "text": [
            "loss_2:  [1.3437460184351468, 0.8835180886222186, 0.6994184504799921, 0.571159651602255, 0.46759417334832276, 0.36747454362044374, 0.29505917920539715, 0.23290062224983576, 0.19270793481696166, 0.1650114937678149, 0.14619757244416381, 0.13079437478140987, 0.12114304448098974, 0.11881139645152397, 0.11285868861989529]\n",
            "accuracy_2:  [0.6289809, 0.70740443, 0.73964965, 0.7571656, 0.7503981, 0.75378186, 0.7563694, 0.75278664, 0.7607484, 0.7561704, 0.74701434, 0.75338376, 0.75, 0.75696653, 0.7621417]\n"
          ]
        }
      ],
      "source": [
        "print('loss_2: ', loss_2)\n",
        "print('accuracy_2: ', accuracy_2)"
      ]
    },
    {
      "cell_type": "code",
      "execution_count": 132,
      "id": "c810294f",
      "metadata": {},
      "outputs": [
        {
          "name": "stderr",
          "output_type": "stream",
          "text": [
            "                                                  "
          ]
        },
        {
          "name": "stdout",
          "output_type": "stream",
          "text": [
            "0.7529952\n"
          ]
        },
        {
          "name": "stderr",
          "output_type": "stream",
          "text": [
            "\r"
          ]
        }
      ],
      "source": [
        "print(testing(model_conv,dl_test))"
      ]
    },
    {
      "cell_type": "markdown",
      "id": "ef4de2f2-abc5-4f98-9eaf-3497f734a022",
      "metadata": {
        "id": "ef4de2f2-abc5-4f98-9eaf-3497f734a022"
      },
      "source": [
        "-----\n",
        "## Exercise 2: Choose at Least One\n",
        "\n",
        "Below are **three** exercises that ask you to deepen your understanding of Deep Networks for visual recognition. You must choose **at least one** of the below for your final submission -- feel free to do **more**, but at least **ONE** you must submit."
      ]
    },
    {
      "cell_type": "markdown",
      "id": "07978e8e-9f2e-4949-9699-495af6cb6349",
      "metadata": {
        "id": "07978e8e-9f2e-4949-9699-495af6cb6349"
      },
      "source": [
        "### Exercise 2.1: Explain why Residual Connections are so effective\n",
        "Use your two models (with and without residual connections) you developed above to study and **quantify** why the residual versions of the networks learn more effectively.\n",
        "\n",
        "**Hint**: A good starting point might be looking at the gradient magnitudes passing through the networks during backpropagation."
      ]
    },
    {
      "cell_type": "code",
      "execution_count": 61,
      "id": "c2304eb8",
      "metadata": {},
      "outputs": [],
      "source": [
        "def plot_grad_flow(named_parameters):\n",
        "    ave_grads = []\n",
        "    layers = []\n",
        "    for n, p in named_parameters:\n",
        "        if(p.requires_grad) and (\"bias\" not in n):\n",
        "            layers.append(n)\n",
        "            ave_grads.append(p.grad.abs().mean().cpu())\n",
        "    plt.plot(ave_grads, alpha=0.3, color=\"b\")\n",
        "    plt.hlines(0, 0, len(ave_grads)+1, linewidth=1, color=\"k\" )\n",
        "    plt.xticks(range(0,len(ave_grads), 1), layers, rotation=\"vertical\")\n",
        "    plt.xlim(xmin=0, xmax=len(ave_grads))\n",
        "    plt.xlabel(\"Layers\")\n",
        "    plt.ylabel(\"average gradient\")\n",
        "    plt.title(\"Gradient flow\")\n",
        "    plt.grid(True)\n",
        "    plt.show()"
      ]
    },
    {
      "cell_type": "code",
      "execution_count": 129,
      "id": "2643a8f6",
      "metadata": {},
      "outputs": [],
      "source": [
        "def train_res(model, epochs, dl_train, dl_val , opt, num_layers):\n",
        "\n",
        "\n",
        "    losses = []\n",
        "    accuracies = []\n",
        "\n",
        "    for epoch in range(epochs):\n",
        "      loss = []\n",
        "      accuracy = []\n",
        "      avg_epoch_grads = []\n",
        "      \n",
        "      for (x_train, y_train) in tqdm(dl_train, desc=f'Training epoch {epoch}', leave=True):\n",
        "        avg_layer_grads = []\n",
        "        model.train()\n",
        "        x_train = x_train.to(device)\n",
        "        y_train = y_train.to(device)\n",
        "        opt.zero_grad()\n",
        "\n",
        "        logits = model(x_train)\n",
        "        ls = F.cross_entropy(logits, y_train)\n",
        "        ls.backward()\n",
        "        \n",
        "        for _, p in model.named_parameters():\n",
        "            if(p.requires_grad) and (\"bias\" not in _):\n",
        "                avg_layer_grads.append(torch.linalg.norm(p.grad.abs().flatten()).cpu())\n",
        "  \n",
        "\n",
        "        avg_epoch_grads.append(avg_layer_grads)\n",
        "        \n",
        "        loss.append(ls.item())\n",
        "\n",
        "        opt.step()\n",
        "  \n",
        "      loss =  np.mean(loss)\n",
        "      \n",
        "      avg_epoch_grads = np.mean(avg_epoch_grads, axis=0)\n",
        "      plt.plot(avg_epoch_grads)\n",
        "      plt.title(f'Average gradient per Layer')\n",
        "      plt.xlabel('Layer')\n",
        "      plt.ylabel('Average gradient')\n",
        "\n",
        "      plt.show()\n",
        "\n",
        "      \n",
        "      for (x_val, y_val) in tqdm(dl_val, desc=f'Eval epoch {epoch}', leave=False):\n",
        "\n",
        "        model.eval()\n",
        "        x_val = x_val.to(device)\n",
        "        y_val = y_val.to(device)\n",
        "\n",
        "        logits_val = model(x_val)\n",
        "        acc = get_accuracy(logits_val.detach(),y_val)\n",
        "        accuracy.append(acc.cpu())\n",
        "\n",
        "      accuracy = np.mean(accuracy)\n",
        "\n",
        "      # Appending losses and accuracies\n",
        "\n",
        "      wandb.log({\"loss\": loss, \"accuracy\": accuracy})\n",
        "      losses.append(loss)\n",
        "      accuracies.append(accuracy)\n",
        "\n",
        "    return losses, accuracies"
      ]
    },
    {
      "cell_type": "code",
      "execution_count": 130,
      "id": "469e81a3-08ca-4549-a2f8-f47cf5a0308b",
      "metadata": {
        "id": "469e81a3-08ca-4549-a2f8-f47cf5a0308b",
        "tags": []
      },
      "outputs": [
        {
          "name": "stderr",
          "output_type": "stream",
          "text": [
            "Training epoch 0:   0%|          | 0/1407 [00:00<?, ?it/s]"
          ]
        },
        {
          "name": "stderr",
          "output_type": "stream",
          "text": [
            "Training epoch 0: 100%|██████████| 1407/1407 [00:06<00:00, 217.07it/s]\n"
          ]
        },
        {
          "data": {
            "image/png": "[encoded data removed]",
            "text/plain": [
              "<Figure size 640x480 with 1 Axes>"
            ]
          },
          "metadata": {},
          "output_type": "display_data"
        },
        {
          "name": "stderr",
          "output_type": "stream",
          "text": [
            "Training epoch 1: 100%|██████████| 1407/1407 [00:06<00:00, 224.18it/s]\n"
          ]
        },
        {
          "data": {
            "image/png": "[encoded data removed]",
            "text/plain": [
              "<Figure size 640x480 with 1 Axes>"
            ]
          },
          "metadata": {},
          "output_type": "display_data"
        },
        {
          "name": "stderr",
          "output_type": "stream",
          "text": [
            "Training epoch 2: 100%|██████████| 1407/1407 [00:06<00:00, 222.84it/s]\n"
          ]
        },
        {
          "data": {
            "image/png": "[encoded data removed]",
            "text/plain": [
              "<Figure size 640x480 with 1 Axes>"
            ]
          },
          "metadata": {},
          "output_type": "display_data"
        },
        {
          "name": "stderr",
          "output_type": "stream",
          "text": [
            "Training epoch 0: 100%|██████████| 1407/1407 [00:06<00:00, 215.10it/s]\n"
          ]
        },
        {
          "data": {
            "image/png": "[encoded data removed]",
            "text/plain": [
              "<Figure size 640x480 with 1 Axes>"
            ]
          },
          "metadata": {},
          "output_type": "display_data"
        },
        {
          "name": "stderr",
          "output_type": "stream",
          "text": [
            "Training epoch 1: 100%|██████████| 1407/1407 [00:06<00:00, 218.11it/s]\n"
          ]
        },
        {
          "data": {
            "image/png": "[encoded data removed]",
            "text/plain": [
              "<Figure size 640x480 with 1 Axes>"
            ]
          },
          "metadata": {},
          "output_type": "display_data"
        },
        {
          "name": "stderr",
          "output_type": "stream",
          "text": [
            "Training epoch 2: 100%|██████████| 1407/1407 [00:06<00:00, 220.64it/s]\n"
          ]
        },
        {
          "data": {
            "image/png": "[encoded data removed]",
            "text/plain": [
              "<Figure size 640x480 with 1 Axes>"
            ]
          },
          "metadata": {},
          "output_type": "display_data"
        },
        {
          "name": "stderr",
          "output_type": "stream",
          "text": [
            "                                                                \r"
          ]
        }
      ],
      "source": [
        "# Hidden layers depth - deep\n",
        "epochs = 3\n",
        "depth_8 = 8\n",
        "model_conv_8 = my_conv(depth_8, residual = False).to(device)\n",
        "opt_8 = torch.optim.Adam(params=model_conv_8.parameters(), lr=lr)\n",
        "loss_8, accuracy_8 = train_res(model_conv_8, epochs, dl_train, dl_val, opt_8, depth_8)\n",
        "\n",
        "\n",
        "# Deep recursive\n",
        "model_conv_8res = my_conv(depth_8, residual = True).to(device)\n",
        "opt_8_res = torch.optim.Adam(params=model_conv_8res.parameters(), lr=lr)\n",
        "\n",
        "loss_8_res, accuracy_8_res = train_res(model_conv_8res, epochs, dl_train, dl_val, opt_8_res, depth_8)\n"
      ]
    },
    {
      "cell_type": "markdown",
      "id": "440a3a7b-2ed6-4f58-a1b7-5ab1fc432893",
      "metadata": {
        "id": "440a3a7b-2ed6-4f58-a1b7-5ab1fc432893"
      },
      "source": [
        "### Exercise 2.2: Fully-convolutionalize a network.\n",
        "Take one of your trained classifiers and **fully-convolutionalize** it. That is, turn it into a network that can predict classification outputs at *all* pixels in an input image. Can you turn this into a **detector** of handwritten digits? Give it a try.\n",
        "\n",
        "**Hint 1**: Sometimes the process of fully-convolutionalization is called \"network surgery\".\n",
        "\n",
        "**Hint 2**: To test your fully-convolutionalized networks you might want to write some functions to take random MNIST samples and embed them into a larger image (i.e. in a regular grid or at random positions)."
      ]
    },
    {
      "cell_type": "markdown",
      "id": "hS63oslRmRUE",
      "metadata": {
        "id": "hS63oslRmRUE"
      },
      "source": [
        "FULLY CONVOLUTIONAL"
      ]
    },
    {
      "cell_type": "code",
      "execution_count": 153,
      "id": "9e33c912-0716-44ef-a91b-47ca19a2b2cd",
      "metadata": {
        "id": "9e33c912-0716-44ef-a91b-47ca19a2b2cd",
        "tags": []
      },
      "outputs": [],
      "source": [
        "class my_fully_conv(nn.Module):\n",
        "    def __init__(self,depth_size,residual):\n",
        "        super().__init__()\n",
        "        # Input layer\n",
        "        self.input_layer = nn.Sequential(\n",
        "          conv3x3_pool(3,64),\n",
        "          conv3x3_pool(64,128),\n",
        "          conv3x3_pool(128,256)\n",
        "        )\n",
        "\n",
        "        self.layers = nn.Sequential()\n",
        "        # Hidden layers\n",
        "        for i in range(depth_size):\n",
        "            self.layers.append(conv3x3_same(256,256))\n",
        "\n",
        "        # Output layer\n",
        "        self.output_layer = nn.Sequential(\n",
        "            nn.Conv2d(256, 128, kernel_size=4, stride=1, padding=0), \n",
        "            nn.ReLU(),\n",
        "            nn.Conv2d(128, 10, kernel_size=1, stride=1, padding=0)   \n",
        "        )\n",
        "        self.residual = residual\n",
        "        self.maxpool = nn.MaxPool2d(1)\n",
        "\n",
        "    def forward(self, x):\n",
        "        out = self.input_layer(x)\n",
        "\n",
        "        for layer in self.layers:\n",
        "            residual = out\n",
        "            out = layer(out)\n",
        "            if self.residual:\n",
        "                out = out + residual\n",
        "        \n",
        "        out = self.output_layer(out)\n",
        "        out = self.maxpool(out)\n",
        "        print(out.shape)\n",
        "        return out"
      ]
    },
    {
      "cell_type": "code",
      "execution_count": 154,
      "id": "cb7cb28d",
      "metadata": {},
      "outputs": [
        {
          "name": "stderr",
          "output_type": "stream",
          "text": [
            "Training epoch 0:   0%|          | 0/1407 [00:00<?, ?it/s]"
          ]
        },
        {
          "name": "stderr",
          "output_type": "stream",
          "text": [
            "Training epoch 0:   0%|          | 0/1407 [00:00<?, ?it/s]"
          ]
        },
        {
          "name": "stdout",
          "output_type": "stream",
          "text": [
            "torch.Size([32, 10, 1, 1])\n"
          ]
        },
        {
          "name": "stderr",
          "output_type": "stream",
          "text": [
            "\n"
          ]
        },
        {
          "ename": "RuntimeError",
          "evalue": "only batches of spatial targets supported (3D tensors) but got targets of size: : [32]",
          "output_type": "error",
          "traceback": [
            "\u001b[0;31m---------------------------------------------------------------------------\u001b[0m",
            "\u001b[0;31mRuntimeError\u001b[0m                              Traceback (most recent call last)",
            "Cell \u001b[0;32mIn[154], line 4\u001b[0m\n\u001b[1;32m      1\u001b[0m fully_conv \u001b[39m=\u001b[39m my_fully_conv(depth_size\u001b[39m=\u001b[39mdepth_8,residual\u001b[39m=\u001b[39m\u001b[39mTrue\u001b[39;00m)\u001b[39m.\u001b[39mto(device)\n\u001b[1;32m      2\u001b[0m opt_8_fully \u001b[39m=\u001b[39m torch\u001b[39m.\u001b[39moptim\u001b[39m.\u001b[39mAdam(params\u001b[39m=\u001b[39mfully_conv\u001b[39m.\u001b[39mparameters(), lr\u001b[39m=\u001b[39mlr)\n\u001b[0;32m----> 4\u001b[0m loss_8_fully, accuracy_8_fully \u001b[39m=\u001b[39m train_res(fully_conv, epochs, dl_train, dl_val, opt_8_fully, depth_8)\n",
            "Cell \u001b[0;32mIn[129], line 20\u001b[0m, in \u001b[0;36mtrain_res\u001b[0;34m(model, epochs, dl_train, dl_val, opt, num_layers)\u001b[0m\n\u001b[1;32m     17\u001b[0m opt\u001b[39m.\u001b[39mzero_grad()\n\u001b[1;32m     19\u001b[0m logits \u001b[39m=\u001b[39m model(x_train)\n\u001b[0;32m---> 20\u001b[0m ls \u001b[39m=\u001b[39m F\u001b[39m.\u001b[39;49mcross_entropy(logits, y_train)\n\u001b[1;32m     21\u001b[0m ls\u001b[39m.\u001b[39mbackward()\n\u001b[1;32m     23\u001b[0m \u001b[39mfor\u001b[39;00m _, p \u001b[39min\u001b[39;00m model\u001b[39m.\u001b[39mnamed_parameters():\n",
            "File \u001b[0;32m~/miniconda3/envs/lab_env/lib/python3.11/site-packages/torch/nn/functional.py:3029\u001b[0m, in \u001b[0;36mcross_entropy\u001b[0;34m(input, target, weight, size_average, ignore_index, reduce, reduction, label_smoothing)\u001b[0m\n\u001b[1;32m   3027\u001b[0m \u001b[39mif\u001b[39;00m size_average \u001b[39mis\u001b[39;00m \u001b[39mnot\u001b[39;00m \u001b[39mNone\u001b[39;00m \u001b[39mor\u001b[39;00m reduce \u001b[39mis\u001b[39;00m \u001b[39mnot\u001b[39;00m \u001b[39mNone\u001b[39;00m:\n\u001b[1;32m   3028\u001b[0m     reduction \u001b[39m=\u001b[39m _Reduction\u001b[39m.\u001b[39mlegacy_get_string(size_average, reduce)\n\u001b[0;32m-> 3029\u001b[0m \u001b[39mreturn\u001b[39;00m torch\u001b[39m.\u001b[39;49m_C\u001b[39m.\u001b[39;49m_nn\u001b[39m.\u001b[39;49mcross_entropy_loss(\u001b[39minput\u001b[39;49m, target, weight, _Reduction\u001b[39m.\u001b[39;49mget_enum(reduction), ignore_index, label_smoothing)\n",
            "\u001b[0;31mRuntimeError\u001b[0m: only batches of spatial targets supported (3D tensors) but got targets of size: : [32]"
          ]
        }
      ],
      "source": [
        "fully_conv = my_fully_conv(depth_size=depth_8,residual=True).to(device)\n",
        "opt_8_fully = torch.optim.Adam(params=fully_conv.parameters(), lr=lr)\n",
        "\n",
        "loss_8_fully, accuracy_8_fully = train_res(fully_conv, epochs, dl_train, dl_val, opt_8_fully, depth_8)"
      ]
    },
    {
      "cell_type": "code",
      "execution_count": 144,
      "id": "78c9a58b",
      "metadata": {},
      "outputs": [
        {
          "name": "stderr",
          "output_type": "stream",
          "text": [
            "                                                  "
          ]
        },
        {
          "name": "stdout",
          "output_type": "stream",
          "text": [
            "0.71755195\n"
          ]
        },
        {
          "name": "stderr",
          "output_type": "stream",
          "text": [
            "\r"
          ]
        }
      ],
      "source": [
        "print(testing(fully_conv,dl_test=dl_test))"
      ]
    },
    {
      "cell_type": "markdown",
      "id": "8243f811-8227-4c6f-b07f-56e8cd91643a",
      "metadata": {
        "id": "8243f811-8227-4c6f-b07f-56e8cd91643a"
      },
      "source": [
        "### Exercise 2.3: *Explain* the predictions of a CNN\n",
        "\n",
        "Use the CNN model you trained in Exercise 1.2 and implement [*Class Activation Maps*](http://cnnlocalization.csail.mit.edu/#:~:text=A%20class%20activation%20map%20for,decision%20made%20by%20the%20CNN.):\n",
        "\n",
        "> B. Zhou, A. Khosla, A. Lapedriza, A. Oliva, and A. Torralba. Learning Deep Features for Discriminative Localization. CVPR'16 (arXiv:1512.04150, 2015).\n",
        "\n",
        "Use your implementation to demonstrate how your trained CNN *attends* to specific image features to recognize *specific* classes."
      ]
    },
    {
      "cell_type": "code",
      "execution_count": null,
      "id": "d634a700-56c2-48fd-96e0-4c94d1bd0cfe",
      "metadata": {
        "id": "d634a700-56c2-48fd-96e0-4c94d1bd0cfe",
        "tags": []
      },
      "outputs": [],
      "source": [
        "# Your code here."
      ]
    }
  ],
  "metadata": {
    "accelerator": "GPU",
    "colab": {
      "provenance": [],
      "toc_visible": true
    },
    "gpuClass": "standard",
    "kernelspec": {
      "display_name": "Python 3 (ipykernel)",
      "language": "python",
      "name": "python3"
    },
    "language_info": {
      "codemirror_mode": {
        "name": "ipython",
        "version": 3
      },
      "file_extension": ".py",
      "mimetype": "text/x-python",
      "name": "python",
      "nbconvert_exporter": "python",
      "pygments_lexer": "ipython3",
      "version": "3.11.4"
    },
    "widgets": {
      "application/vnd.jupyter.widget-state+json": {
        "0316d0ee6f09436c9ac5d8f855377b2f": {
          "model_module": "@jupyter-widgets/base",
          "model_module_version": "1.2.0",
          "model_name": "LayoutModel",
          "state": {
            "_model_module": "@jupyter-widgets/base",
            "_model_module_version": "1.2.0",
            "_model_name": "LayoutModel",
            "_view_count": null,
            "_view_module": "@jupyter-widgets/base",
            "_view_module_version": "1.2.0",
            "_view_name": "LayoutView",
            "align_content": null,
            "align_items": null,
            "align_self": null,
            "border": null,
            "bottom": null,
            "display": null,
            "flex": null,
            "flex_flow": null,
            "grid_area": null,
            "grid_auto_columns": null,
            "grid_auto_flow": null,
            "grid_auto_rows": null,
            "grid_column": null,
            "grid_gap": null,
            "grid_row": null,
            "grid_template_areas": null,
            "grid_template_columns": null,
            "grid_template_rows": null,
            "height": null,
            "justify_content": null,
            "justify_items": null,
            "left": null,
            "margin": null,
            "max_height": null,
            "max_width": null,
            "min_height": null,
            "min_width": null,
            "object_fit": null,
            "object_position": null,
            "order": null,
            "overflow": null,
            "overflow_x": null,
            "overflow_y": null,
            "padding": null,
            "right": null,
            "top": null,
            "visibility": null,
            "width": null
          }
        },
        "0507e6c90d9e418f9a0ddfdb148981ac": {
          "model_module": "@jupyter-widgets/controls",
          "model_module_version": "1.5.0",
          "model_name": "DescriptionStyleModel",
          "state": {
            "_model_module": "@jupyter-widgets/controls",
            "_model_module_version": "1.5.0",
            "_model_name": "DescriptionStyleModel",
            "_view_count": null,
            "_view_module": "@jupyter-widgets/base",
            "_view_module_version": "1.2.0",
            "_view_name": "StyleView",
            "description_width": ""
          }
        },
        "0dea0dd86212462eab912342227bd2cf": {
          "model_module": "@jupyter-widgets/base",
          "model_module_version": "1.2.0",
          "model_name": "LayoutModel",
          "state": {
            "_model_module": "@jupyter-widgets/base",
            "_model_module_version": "1.2.0",
            "_model_name": "LayoutModel",
            "_view_count": null,
            "_view_module": "@jupyter-widgets/base",
            "_view_module_version": "1.2.0",
            "_view_name": "LayoutView",
            "align_content": null,
            "align_items": null,
            "align_self": null,
            "border": null,
            "bottom": null,
            "display": null,
            "flex": null,
            "flex_flow": null,
            "grid_area": null,
            "grid_auto_columns": null,
            "grid_auto_flow": null,
            "grid_auto_rows": null,
            "grid_column": null,
            "grid_gap": null,
            "grid_row": null,
            "grid_template_areas": null,
            "grid_template_columns": null,
            "grid_template_rows": null,
            "height": null,
            "justify_content": null,
            "justify_items": null,
            "left": null,
            "margin": null,
            "max_height": null,
            "max_width": null,
            "min_height": null,
            "min_width": null,
            "object_fit": null,
            "object_position": null,
            "order": null,
            "overflow": null,
            "overflow_x": null,
            "overflow_y": null,
            "padding": null,
            "right": null,
            "top": null,
            "visibility": null,
            "width": null
          }
        },
        "12ec31c422874dac90059013ca9ceefe": {
          "model_module": "@jupyter-widgets/base",
          "model_module_version": "1.2.0",
          "model_name": "LayoutModel",
          "state": {
            "_model_module": "@jupyter-widgets/base",
            "_model_module_version": "1.2.0",
            "_model_name": "LayoutModel",
            "_view_count": null,
            "_view_module": "@jupyter-widgets/base",
            "_view_module_version": "1.2.0",
            "_view_name": "LayoutView",
            "align_content": null,
            "align_items": null,
            "align_self": null,
            "border": null,
            "bottom": null,
            "display": null,
            "flex": null,
            "flex_flow": null,
            "grid_area": null,
            "grid_auto_columns": null,
            "grid_auto_flow": null,
            "grid_auto_rows": null,
            "grid_column": null,
            "grid_gap": null,
            "grid_row": null,
            "grid_template_areas": null,
            "grid_template_columns": null,
            "grid_template_rows": null,
            "height": null,
            "justify_content": null,
            "justify_items": null,
            "left": null,
            "margin": null,
            "max_height": null,
            "max_width": null,
            "min_height": null,
            "min_width": null,
            "object_fit": null,
            "object_position": null,
            "order": null,
            "overflow": null,
            "overflow_x": null,
            "overflow_y": null,
            "padding": null,
            "right": null,
            "top": null,
            "visibility": null,
            "width": null
          }
        },
        "13df1d7a38d24e98a7eabfbfbc7b09aa": {
          "model_module": "@jupyter-widgets/base",
          "model_module_version": "1.2.0",
          "model_name": "LayoutModel",
          "state": {
            "_model_module": "@jupyter-widgets/base",
            "_model_module_version": "1.2.0",
            "_model_name": "LayoutModel",
            "_view_count": null,
            "_view_module": "@jupyter-widgets/base",
            "_view_module_version": "1.2.0",
            "_view_name": "LayoutView",
            "align_content": null,
            "align_items": null,
            "align_self": null,
            "border": null,
            "bottom": null,
            "display": null,
            "flex": null,
            "flex_flow": null,
            "grid_area": null,
            "grid_auto_columns": null,
            "grid_auto_flow": null,
            "grid_auto_rows": null,
            "grid_column": null,
            "grid_gap": null,
            "grid_row": null,
            "grid_template_areas": null,
            "grid_template_columns": null,
            "grid_template_rows": null,
            "height": null,
            "justify_content": null,
            "justify_items": null,
            "left": null,
            "margin": null,
            "max_height": null,
            "max_width": null,
            "min_height": null,
            "min_width": null,
            "object_fit": null,
            "object_position": null,
            "order": null,
            "overflow": null,
            "overflow_x": null,
            "overflow_y": null,
            "padding": null,
            "right": null,
            "top": null,
            "visibility": null,
            "width": null
          }
        },
        "1476ec9c20154d89b3e944d3bb191f61": {
          "model_module": "@jupyter-widgets/controls",
          "model_module_version": "1.5.0",
          "model_name": "DescriptionStyleModel",
          "state": {
            "_model_module": "@jupyter-widgets/controls",
            "_model_module_version": "1.5.0",
            "_model_name": "DescriptionStyleModel",
            "_view_count": null,
            "_view_module": "@jupyter-widgets/base",
            "_view_module_version": "1.2.0",
            "_view_name": "StyleView",
            "description_width": ""
          }
        },
        "1aca8ddfd8eb4c0c9ad6e5256c78d066": {
          "model_module": "@jupyter-widgets/base",
          "model_module_version": "1.2.0",
          "model_name": "LayoutModel",
          "state": {
            "_model_module": "@jupyter-widgets/base",
            "_model_module_version": "1.2.0",
            "_model_name": "LayoutModel",
            "_view_count": null,
            "_view_module": "@jupyter-widgets/base",
            "_view_module_version": "1.2.0",
            "_view_name": "LayoutView",
            "align_content": null,
            "align_items": null,
            "align_self": null,
            "border": null,
            "bottom": null,
            "display": null,
            "flex": null,
            "flex_flow": null,
            "grid_area": null,
            "grid_auto_columns": null,
            "grid_auto_flow": null,
            "grid_auto_rows": null,
            "grid_column": null,
            "grid_gap": null,
            "grid_row": null,
            "grid_template_areas": null,
            "grid_template_columns": null,
            "grid_template_rows": null,
            "height": null,
            "justify_content": null,
            "justify_items": null,
            "left": null,
            "margin": null,
            "max_height": null,
            "max_width": null,
            "min_height": null,
            "min_width": null,
            "object_fit": null,
            "object_position": null,
            "order": null,
            "overflow": null,
            "overflow_x": null,
            "overflow_y": null,
            "padding": null,
            "right": null,
            "top": null,
            "visibility": null,
            "width": null
          }
        },
        "208453e735234402bd2f4d6620bef690": {
          "model_module": "@jupyter-widgets/controls",
          "model_module_version": "1.5.0",
          "model_name": "HTMLModel",
          "state": {
            "_dom_classes": [],
            "_model_module": "@jupyter-widgets/controls",
            "_model_module_version": "1.5.0",
            "_model_name": "HTMLModel",
            "_view_count": null,
            "_view_module": "@jupyter-widgets/controls",
            "_view_module_version": "1.5.0",
            "_view_name": "HTMLView",
            "description": "",
            "description_tooltip": null,
            "layout": "IPY_MODEL_1aca8ddfd8eb4c0c9ad6e5256c78d066",
            "placeholder": "​",
            "style": "IPY_MODEL_256b539e08914021a885bf51591e1c7a",
            "value": "100%"
          }
        },
        "21aaece50b6f49aca968534ae188c53f": {
          "model_module": "@jupyter-widgets/controls",
          "model_module_version": "1.5.0",
          "model_name": "HTMLModel",
          "state": {
            "_dom_classes": [],
            "_model_module": "@jupyter-widgets/controls",
            "_model_module_version": "1.5.0",
            "_model_name": "HTMLModel",
            "_view_count": null,
            "_view_module": "@jupyter-widgets/controls",
            "_view_module_version": "1.5.0",
            "_view_name": "HTMLView",
            "description": "",
            "description_tooltip": null,
            "layout": "IPY_MODEL_faf93d3876b1495aa8b552f573e1c921",
            "placeholder": "​",
            "style": "IPY_MODEL_0507e6c90d9e418f9a0ddfdb148981ac",
            "value": "100%"
          }
        },
        "220549061d134a15954ebed5081149c4": {
          "model_module": "@jupyter-widgets/base",
          "model_module_version": "1.2.0",
          "model_name": "LayoutModel",
          "state": {
            "_model_module": "@jupyter-widgets/base",
            "_model_module_version": "1.2.0",
            "_model_name": "LayoutModel",
            "_view_count": null,
            "_view_module": "@jupyter-widgets/base",
            "_view_module_version": "1.2.0",
            "_view_name": "LayoutView",
            "align_content": null,
            "align_items": null,
            "align_self": null,
            "border": null,
            "bottom": null,
            "display": null,
            "flex": null,
            "flex_flow": null,
            "grid_area": null,
            "grid_auto_columns": null,
            "grid_auto_flow": null,
            "grid_auto_rows": null,
            "grid_column": null,
            "grid_gap": null,
            "grid_row": null,
            "grid_template_areas": null,
            "grid_template_columns": null,
            "grid_template_rows": null,
            "height": null,
            "justify_content": null,
            "justify_items": null,
            "left": null,
            "margin": null,
            "max_height": null,
            "max_width": null,
            "min_height": null,
            "min_width": null,
            "object_fit": null,
            "object_position": null,
            "order": null,
            "overflow": null,
            "overflow_x": null,
            "overflow_y": null,
            "padding": null,
            "right": null,
            "top": null,
            "visibility": null,
            "width": null
          }
        },
        "233aa44cbc8f4e259f9a85a7f9957e09": {
          "model_module": "@jupyter-widgets/controls",
          "model_module_version": "1.5.0",
          "model_name": "HBoxModel",
          "state": {
            "_dom_classes": [],
            "_model_module": "@jupyter-widgets/controls",
            "_model_module_version": "1.5.0",
            "_model_name": "HBoxModel",
            "_view_count": null,
            "_view_module": "@jupyter-widgets/controls",
            "_view_module_version": "1.5.0",
            "_view_name": "HBoxView",
            "box_style": "",
            "children": [
              "IPY_MODEL_d17540fc9b2c4dd58814ef1508b609b8",
              "IPY_MODEL_d2b79191216e4a51b3f05475fd49d919",
              "IPY_MODEL_c603c0cc158a414f923b5eda3476ae89"
            ],
            "layout": "IPY_MODEL_db151ddceb1c47c6a2cc5208dd4b11c1"
          }
        },
        "256b539e08914021a885bf51591e1c7a": {
          "model_module": "@jupyter-widgets/controls",
          "model_module_version": "1.5.0",
          "model_name": "DescriptionStyleModel",
          "state": {
            "_model_module": "@jupyter-widgets/controls",
            "_model_module_version": "1.5.0",
            "_model_name": "DescriptionStyleModel",
            "_view_count": null,
            "_view_module": "@jupyter-widgets/base",
            "_view_module_version": "1.2.0",
            "_view_name": "StyleView",
            "description_width": ""
          }
        },
        "2906509412b746c190c5fcb5ad9b4e62": {
          "model_module": "@jupyter-widgets/controls",
          "model_module_version": "1.5.0",
          "model_name": "DescriptionStyleModel",
          "state": {
            "_model_module": "@jupyter-widgets/controls",
            "_model_module_version": "1.5.0",
            "_model_name": "DescriptionStyleModel",
            "_view_count": null,
            "_view_module": "@jupyter-widgets/base",
            "_view_module_version": "1.2.0",
            "_view_name": "StyleView",
            "description_width": ""
          }
        },
        "2919df3244d246a6802fa05eaab75ec8": {
          "model_module": "@jupyter-widgets/controls",
          "model_module_version": "1.5.0",
          "model_name": "DescriptionStyleModel",
          "state": {
            "_model_module": "@jupyter-widgets/controls",
            "_model_module_version": "1.5.0",
            "_model_name": "DescriptionStyleModel",
            "_view_count": null,
            "_view_module": "@jupyter-widgets/base",
            "_view_module_version": "1.2.0",
            "_view_name": "StyleView",
            "description_width": ""
          }
        },
        "29b1767f327f4431aa2c60d9979045e2": {
          "model_module": "@jupyter-widgets/controls",
          "model_module_version": "1.5.0",
          "model_name": "FloatProgressModel",
          "state": {
            "_dom_classes": [],
            "_model_module": "@jupyter-widgets/controls",
            "_model_module_version": "1.5.0",
            "_model_name": "FloatProgressModel",
            "_view_count": null,
            "_view_module": "@jupyter-widgets/controls",
            "_view_module_version": "1.5.0",
            "_view_name": "ProgressView",
            "bar_style": "success",
            "description": "",
            "description_tooltip": null,
            "layout": "IPY_MODEL_220549061d134a15954ebed5081149c4",
            "max": 9912422,
            "min": 0,
            "orientation": "horizontal",
            "style": "IPY_MODEL_364de86125be484d91262f5ca44939b8",
            "value": 9912422
          }
        },
        "2bbf5e823d2a41dfbf7186d3881178fb": {
          "model_module": "@jupyter-widgets/controls",
          "model_module_version": "1.5.0",
          "model_name": "HTMLModel",
          "state": {
            "_dom_classes": [],
            "_model_module": "@jupyter-widgets/controls",
            "_model_module_version": "1.5.0",
            "_model_name": "HTMLModel",
            "_view_count": null,
            "_view_module": "@jupyter-widgets/controls",
            "_view_module_version": "1.5.0",
            "_view_name": "HTMLView",
            "description": "",
            "description_tooltip": null,
            "layout": "IPY_MODEL_83bf4409159c4e3ebff1b46b43df4117",
            "placeholder": "​",
            "style": "IPY_MODEL_56fc919715d54294b5ca92a866cd7fe8",
            "value": " 4542/4542 [00:00&lt;00:00, 139711.70it/s]"
          }
        },
        "2d1ce036a93e48a18c14ff8f0875c79f": {
          "model_module": "@jupyter-widgets/controls",
          "model_module_version": "1.5.0",
          "model_name": "HBoxModel",
          "state": {
            "_dom_classes": [],
            "_model_module": "@jupyter-widgets/controls",
            "_model_module_version": "1.5.0",
            "_model_name": "HBoxModel",
            "_view_count": null,
            "_view_module": "@jupyter-widgets/controls",
            "_view_module_version": "1.5.0",
            "_view_name": "HBoxView",
            "box_style": "",
            "children": [
              "IPY_MODEL_21aaece50b6f49aca968534ae188c53f",
              "IPY_MODEL_41cd423047d44379b3634f5490617507",
              "IPY_MODEL_c1c16f594d884eedb3ed8d5d1afb65a8"
            ],
            "layout": "IPY_MODEL_e0d979f8f10045ebb1986eb37cf49819"
          }
        },
        "354aeefeee4a42daa49cad7d8e15b303": {
          "model_module": "@jupyter-widgets/base",
          "model_module_version": "1.2.0",
          "model_name": "LayoutModel",
          "state": {
            "_model_module": "@jupyter-widgets/base",
            "_model_module_version": "1.2.0",
            "_model_name": "LayoutModel",
            "_view_count": null,
            "_view_module": "@jupyter-widgets/base",
            "_view_module_version": "1.2.0",
            "_view_name": "LayoutView",
            "align_content": null,
            "align_items": null,
            "align_self": null,
            "border": null,
            "bottom": null,
            "display": null,
            "flex": null,
            "flex_flow": null,
            "grid_area": null,
            "grid_auto_columns": null,
            "grid_auto_flow": null,
            "grid_auto_rows": null,
            "grid_column": null,
            "grid_gap": null,
            "grid_row": null,
            "grid_template_areas": null,
            "grid_template_columns": null,
            "grid_template_rows": null,
            "height": null,
            "justify_content": null,
            "justify_items": null,
            "left": null,
            "margin": null,
            "max_height": null,
            "max_width": null,
            "min_height": null,
            "min_width": null,
            "object_fit": null,
            "object_position": null,
            "order": null,
            "overflow": null,
            "overflow_x": null,
            "overflow_y": null,
            "padding": null,
            "right": null,
            "top": null,
            "visibility": null,
            "width": null
          }
        },
        "364de86125be484d91262f5ca44939b8": {
          "model_module": "@jupyter-widgets/controls",
          "model_module_version": "1.5.0",
          "model_name": "ProgressStyleModel",
          "state": {
            "_model_module": "@jupyter-widgets/controls",
            "_model_module_version": "1.5.0",
            "_model_name": "ProgressStyleModel",
            "_view_count": null,
            "_view_module": "@jupyter-widgets/base",
            "_view_module_version": "1.2.0",
            "_view_name": "StyleView",
            "bar_color": null,
            "description_width": ""
          }
        },
        "3b5d4f2b8a874da7832af4567f72191b": {
          "model_module": "@jupyter-widgets/base",
          "model_module_version": "1.2.0",
          "model_name": "LayoutModel",
          "state": {
            "_model_module": "@jupyter-widgets/base",
            "_model_module_version": "1.2.0",
            "_model_name": "LayoutModel",
            "_view_count": null,
            "_view_module": "@jupyter-widgets/base",
            "_view_module_version": "1.2.0",
            "_view_name": "LayoutView",
            "align_content": null,
            "align_items": null,
            "align_self": null,
            "border": null,
            "bottom": null,
            "display": null,
            "flex": null,
            "flex_flow": null,
            "grid_area": null,
            "grid_auto_columns": null,
            "grid_auto_flow": null,
            "grid_auto_rows": null,
            "grid_column": null,
            "grid_gap": null,
            "grid_row": null,
            "grid_template_areas": null,
            "grid_template_columns": null,
            "grid_template_rows": null,
            "height": null,
            "justify_content": null,
            "justify_items": null,
            "left": null,
            "margin": null,
            "max_height": null,
            "max_width": null,
            "min_height": null,
            "min_width": null,
            "object_fit": null,
            "object_position": null,
            "order": null,
            "overflow": null,
            "overflow_x": null,
            "overflow_y": null,
            "padding": null,
            "right": null,
            "top": null,
            "visibility": null,
            "width": null
          }
        },
        "3b91410e91904f0f8b0f81a3fc466d3e": {
          "model_module": "@jupyter-widgets/controls",
          "model_module_version": "1.5.0",
          "model_name": "ProgressStyleModel",
          "state": {
            "_model_module": "@jupyter-widgets/controls",
            "_model_module_version": "1.5.0",
            "_model_name": "ProgressStyleModel",
            "_view_count": null,
            "_view_module": "@jupyter-widgets/base",
            "_view_module_version": "1.2.0",
            "_view_name": "StyleView",
            "bar_color": null,
            "description_width": ""
          }
        },
        "3d738a1cea664662b4306a2f470ecf83": {
          "model_module": "@jupyter-widgets/controls",
          "model_module_version": "1.5.0",
          "model_name": "ProgressStyleModel",
          "state": {
            "_model_module": "@jupyter-widgets/controls",
            "_model_module_version": "1.5.0",
            "_model_name": "ProgressStyleModel",
            "_view_count": null,
            "_view_module": "@jupyter-widgets/base",
            "_view_module_version": "1.2.0",
            "_view_name": "StyleView",
            "bar_color": null,
            "description_width": ""
          }
        },
        "41cd423047d44379b3634f5490617507": {
          "model_module": "@jupyter-widgets/controls",
          "model_module_version": "1.5.0",
          "model_name": "FloatProgressModel",
          "state": {
            "_dom_classes": [],
            "_model_module": "@jupyter-widgets/controls",
            "_model_module_version": "1.5.0",
            "_model_name": "FloatProgressModel",
            "_view_count": null,
            "_view_module": "@jupyter-widgets/controls",
            "_view_module_version": "1.5.0",
            "_view_name": "ProgressView",
            "bar_style": "success",
            "description": "",
            "description_tooltip": null,
            "layout": "IPY_MODEL_480299329b2748cbb58e8de73de32adf",
            "max": 170498071,
            "min": 0,
            "orientation": "horizontal",
            "style": "IPY_MODEL_a633ea9fc1d74c76a3a6084d5a6f8539",
            "value": 170498071
          }
        },
        "4465c8b7d0634e52978adf62c43ab1de": {
          "model_module": "@jupyter-widgets/controls",
          "model_module_version": "1.5.0",
          "model_name": "HBoxModel",
          "state": {
            "_dom_classes": [],
            "_model_module": "@jupyter-widgets/controls",
            "_model_module_version": "1.5.0",
            "_model_name": "HBoxModel",
            "_view_count": null,
            "_view_module": "@jupyter-widgets/controls",
            "_view_module_version": "1.5.0",
            "_view_name": "HBoxView",
            "box_style": "",
            "children": [
              "IPY_MODEL_9f5dbdb3a56640889108be44fa8044e3",
              "IPY_MODEL_29b1767f327f4431aa2c60d9979045e2",
              "IPY_MODEL_8dfed64a6af64de6a708b1cdc634232b"
            ],
            "layout": "IPY_MODEL_c20da12748234ba59b037c66902a4969"
          }
        },
        "480299329b2748cbb58e8de73de32adf": {
          "model_module": "@jupyter-widgets/base",
          "model_module_version": "1.2.0",
          "model_name": "LayoutModel",
          "state": {
            "_model_module": "@jupyter-widgets/base",
            "_model_module_version": "1.2.0",
            "_model_name": "LayoutModel",
            "_view_count": null,
            "_view_module": "@jupyter-widgets/base",
            "_view_module_version": "1.2.0",
            "_view_name": "LayoutView",
            "align_content": null,
            "align_items": null,
            "align_self": null,
            "border": null,
            "bottom": null,
            "display": null,
            "flex": null,
            "flex_flow": null,
            "grid_area": null,
            "grid_auto_columns": null,
            "grid_auto_flow": null,
            "grid_auto_rows": null,
            "grid_column": null,
            "grid_gap": null,
            "grid_row": null,
            "grid_template_areas": null,
            "grid_template_columns": null,
            "grid_template_rows": null,
            "height": null,
            "justify_content": null,
            "justify_items": null,
            "left": null,
            "margin": null,
            "max_height": null,
            "max_width": null,
            "min_height": null,
            "min_width": null,
            "object_fit": null,
            "object_position": null,
            "order": null,
            "overflow": null,
            "overflow_x": null,
            "overflow_y": null,
            "padding": null,
            "right": null,
            "top": null,
            "visibility": null,
            "width": null
          }
        },
        "56fc919715d54294b5ca92a866cd7fe8": {
          "model_module": "@jupyter-widgets/controls",
          "model_module_version": "1.5.0",
          "model_name": "DescriptionStyleModel",
          "state": {
            "_model_module": "@jupyter-widgets/controls",
            "_model_module_version": "1.5.0",
            "_model_name": "DescriptionStyleModel",
            "_view_count": null,
            "_view_module": "@jupyter-widgets/base",
            "_view_module_version": "1.2.0",
            "_view_name": "StyleView",
            "description_width": ""
          }
        },
        "5dc962633d4b4dcfb8f6f839440d353f": {
          "model_module": "@jupyter-widgets/controls",
          "model_module_version": "1.5.0",
          "model_name": "HTMLModel",
          "state": {
            "_dom_classes": [],
            "_model_module": "@jupyter-widgets/controls",
            "_model_module_version": "1.5.0",
            "_model_name": "HTMLModel",
            "_view_count": null,
            "_view_module": "@jupyter-widgets/controls",
            "_view_module_version": "1.5.0",
            "_view_name": "HTMLView",
            "description": "",
            "description_tooltip": null,
            "layout": "IPY_MODEL_62365ef28bcf4d5889ea68ebdedd2e8f",
            "placeholder": "​",
            "style": "IPY_MODEL_2919df3244d246a6802fa05eaab75ec8",
            "value": "100%"
          }
        },
        "62365ef28bcf4d5889ea68ebdedd2e8f": {
          "model_module": "@jupyter-widgets/base",
          "model_module_version": "1.2.0",
          "model_name": "LayoutModel",
          "state": {
            "_model_module": "@jupyter-widgets/base",
            "_model_module_version": "1.2.0",
            "_model_name": "LayoutModel",
            "_view_count": null,
            "_view_module": "@jupyter-widgets/base",
            "_view_module_version": "1.2.0",
            "_view_name": "LayoutView",
            "align_content": null,
            "align_items": null,
            "align_self": null,
            "border": null,
            "bottom": null,
            "display": null,
            "flex": null,
            "flex_flow": null,
            "grid_area": null,
            "grid_auto_columns": null,
            "grid_auto_flow": null,
            "grid_auto_rows": null,
            "grid_column": null,
            "grid_gap": null,
            "grid_row": null,
            "grid_template_areas": null,
            "grid_template_columns": null,
            "grid_template_rows": null,
            "height": null,
            "justify_content": null,
            "justify_items": null,
            "left": null,
            "margin": null,
            "max_height": null,
            "max_width": null,
            "min_height": null,
            "min_width": null,
            "object_fit": null,
            "object_position": null,
            "order": null,
            "overflow": null,
            "overflow_x": null,
            "overflow_y": null,
            "padding": null,
            "right": null,
            "top": null,
            "visibility": null,
            "width": null
          }
        },
        "6e4aa4f785da45a08332e4e7cb26fbd3": {
          "model_module": "@jupyter-widgets/controls",
          "model_module_version": "1.5.0",
          "model_name": "HTMLModel",
          "state": {
            "_dom_classes": [],
            "_model_module": "@jupyter-widgets/controls",
            "_model_module_version": "1.5.0",
            "_model_name": "HTMLModel",
            "_view_count": null,
            "_view_module": "@jupyter-widgets/controls",
            "_view_module_version": "1.5.0",
            "_view_name": "HTMLView",
            "description": "",
            "description_tooltip": null,
            "layout": "IPY_MODEL_12ec31c422874dac90059013ca9ceefe",
            "placeholder": "​",
            "style": "IPY_MODEL_bdeb420091644c3f9245f20d1b4328f8",
            "value": " 28881/28881 [00:00&lt;00:00, 1331512.64it/s]"
          }
        },
        "6f12878b6b934266843f519b6c217375": {
          "model_module": "@jupyter-widgets/controls",
          "model_module_version": "1.5.0",
          "model_name": "ProgressStyleModel",
          "state": {
            "_model_module": "@jupyter-widgets/controls",
            "_model_module_version": "1.5.0",
            "_model_name": "ProgressStyleModel",
            "_view_count": null,
            "_view_module": "@jupyter-widgets/base",
            "_view_module_version": "1.2.0",
            "_view_name": "StyleView",
            "bar_color": null,
            "description_width": ""
          }
        },
        "7681f0f494084c8f8b2175e325f7f0f9": {
          "model_module": "@jupyter-widgets/base",
          "model_module_version": "1.2.0",
          "model_name": "LayoutModel",
          "state": {
            "_model_module": "@jupyter-widgets/base",
            "_model_module_version": "1.2.0",
            "_model_name": "LayoutModel",
            "_view_count": null,
            "_view_module": "@jupyter-widgets/base",
            "_view_module_version": "1.2.0",
            "_view_name": "LayoutView",
            "align_content": null,
            "align_items": null,
            "align_self": null,
            "border": null,
            "bottom": null,
            "display": null,
            "flex": null,
            "flex_flow": null,
            "grid_area": null,
            "grid_auto_columns": null,
            "grid_auto_flow": null,
            "grid_auto_rows": null,
            "grid_column": null,
            "grid_gap": null,
            "grid_row": null,
            "grid_template_areas": null,
            "grid_template_columns": null,
            "grid_template_rows": null,
            "height": null,
            "justify_content": null,
            "justify_items": null,
            "left": null,
            "margin": null,
            "max_height": null,
            "max_width": null,
            "min_height": null,
            "min_width": null,
            "object_fit": null,
            "object_position": null,
            "order": null,
            "overflow": null,
            "overflow_x": null,
            "overflow_y": null,
            "padding": null,
            "right": null,
            "top": null,
            "visibility": null,
            "width": null
          }
        },
        "83bf4409159c4e3ebff1b46b43df4117": {
          "model_module": "@jupyter-widgets/base",
          "model_module_version": "1.2.0",
          "model_name": "LayoutModel",
          "state": {
            "_model_module": "@jupyter-widgets/base",
            "_model_module_version": "1.2.0",
            "_model_name": "LayoutModel",
            "_view_count": null,
            "_view_module": "@jupyter-widgets/base",
            "_view_module_version": "1.2.0",
            "_view_name": "LayoutView",
            "align_content": null,
            "align_items": null,
            "align_self": null,
            "border": null,
            "bottom": null,
            "display": null,
            "flex": null,
            "flex_flow": null,
            "grid_area": null,
            "grid_auto_columns": null,
            "grid_auto_flow": null,
            "grid_auto_rows": null,
            "grid_column": null,
            "grid_gap": null,
            "grid_row": null,
            "grid_template_areas": null,
            "grid_template_columns": null,
            "grid_template_rows": null,
            "height": null,
            "justify_content": null,
            "justify_items": null,
            "left": null,
            "margin": null,
            "max_height": null,
            "max_width": null,
            "min_height": null,
            "min_width": null,
            "object_fit": null,
            "object_position": null,
            "order": null,
            "overflow": null,
            "overflow_x": null,
            "overflow_y": null,
            "padding": null,
            "right": null,
            "top": null,
            "visibility": null,
            "width": null
          }
        },
        "8dfd161e41f14269ba5a9b032b568397": {
          "model_module": "@jupyter-widgets/controls",
          "model_module_version": "1.5.0",
          "model_name": "FloatProgressModel",
          "state": {
            "_dom_classes": [],
            "_model_module": "@jupyter-widgets/controls",
            "_model_module_version": "1.5.0",
            "_model_name": "FloatProgressModel",
            "_view_count": null,
            "_view_module": "@jupyter-widgets/controls",
            "_view_module_version": "1.5.0",
            "_view_name": "ProgressView",
            "bar_style": "success",
            "description": "",
            "description_tooltip": null,
            "layout": "IPY_MODEL_3b5d4f2b8a874da7832af4567f72191b",
            "max": 4542,
            "min": 0,
            "orientation": "horizontal",
            "style": "IPY_MODEL_3b91410e91904f0f8b0f81a3fc466d3e",
            "value": 4542
          }
        },
        "8dfed64a6af64de6a708b1cdc634232b": {
          "model_module": "@jupyter-widgets/controls",
          "model_module_version": "1.5.0",
          "model_name": "HTMLModel",
          "state": {
            "_dom_classes": [],
            "_model_module": "@jupyter-widgets/controls",
            "_model_module_version": "1.5.0",
            "_model_name": "HTMLModel",
            "_view_count": null,
            "_view_module": "@jupyter-widgets/controls",
            "_view_module_version": "1.5.0",
            "_view_name": "HTMLView",
            "description": "",
            "description_tooltip": null,
            "layout": "IPY_MODEL_13df1d7a38d24e98a7eabfbfbc7b09aa",
            "placeholder": "​",
            "style": "IPY_MODEL_af7e34c482c04720b4f005f18e6dad92",
            "value": " 9912422/9912422 [00:00&lt;00:00, 53359782.50it/s]"
          }
        },
        "92a161922fb14611a5995c44baa67064": {
          "model_module": "@jupyter-widgets/base",
          "model_module_version": "1.2.0",
          "model_name": "LayoutModel",
          "state": {
            "_model_module": "@jupyter-widgets/base",
            "_model_module_version": "1.2.0",
            "_model_name": "LayoutModel",
            "_view_count": null,
            "_view_module": "@jupyter-widgets/base",
            "_view_module_version": "1.2.0",
            "_view_name": "LayoutView",
            "align_content": null,
            "align_items": null,
            "align_self": null,
            "border": null,
            "bottom": null,
            "display": null,
            "flex": null,
            "flex_flow": null,
            "grid_area": null,
            "grid_auto_columns": null,
            "grid_auto_flow": null,
            "grid_auto_rows": null,
            "grid_column": null,
            "grid_gap": null,
            "grid_row": null,
            "grid_template_areas": null,
            "grid_template_columns": null,
            "grid_template_rows": null,
            "height": null,
            "justify_content": null,
            "justify_items": null,
            "left": null,
            "margin": null,
            "max_height": null,
            "max_width": null,
            "min_height": null,
            "min_width": null,
            "object_fit": null,
            "object_position": null,
            "order": null,
            "overflow": null,
            "overflow_x": null,
            "overflow_y": null,
            "padding": null,
            "right": null,
            "top": null,
            "visibility": null,
            "width": null
          }
        },
        "9f5dbdb3a56640889108be44fa8044e3": {
          "model_module": "@jupyter-widgets/controls",
          "model_module_version": "1.5.0",
          "model_name": "HTMLModel",
          "state": {
            "_dom_classes": [],
            "_model_module": "@jupyter-widgets/controls",
            "_model_module_version": "1.5.0",
            "_model_name": "HTMLModel",
            "_view_count": null,
            "_view_module": "@jupyter-widgets/controls",
            "_view_module_version": "1.5.0",
            "_view_name": "HTMLView",
            "description": "",
            "description_tooltip": null,
            "layout": "IPY_MODEL_0316d0ee6f09436c9ac5d8f855377b2f",
            "placeholder": "​",
            "style": "IPY_MODEL_c019cf1d7b7e4b7e816fdc3ed5bb3767",
            "value": "100%"
          }
        },
        "a06ed5d69c7243f8a8d3eea9a73a3369": {
          "model_module": "@jupyter-widgets/base",
          "model_module_version": "1.2.0",
          "model_name": "LayoutModel",
          "state": {
            "_model_module": "@jupyter-widgets/base",
            "_model_module_version": "1.2.0",
            "_model_name": "LayoutModel",
            "_view_count": null,
            "_view_module": "@jupyter-widgets/base",
            "_view_module_version": "1.2.0",
            "_view_name": "LayoutView",
            "align_content": null,
            "align_items": null,
            "align_self": null,
            "border": null,
            "bottom": null,
            "display": null,
            "flex": null,
            "flex_flow": null,
            "grid_area": null,
            "grid_auto_columns": null,
            "grid_auto_flow": null,
            "grid_auto_rows": null,
            "grid_column": null,
            "grid_gap": null,
            "grid_row": null,
            "grid_template_areas": null,
            "grid_template_columns": null,
            "grid_template_rows": null,
            "height": null,
            "justify_content": null,
            "justify_items": null,
            "left": null,
            "margin": null,
            "max_height": null,
            "max_width": null,
            "min_height": null,
            "min_width": null,
            "object_fit": null,
            "object_position": null,
            "order": null,
            "overflow": null,
            "overflow_x": null,
            "overflow_y": null,
            "padding": null,
            "right": null,
            "top": null,
            "visibility": null,
            "width": null
          }
        },
        "a55ee8c9903c41b8a59bf5d4a03ac78e": {
          "model_module": "@jupyter-widgets/base",
          "model_module_version": "1.2.0",
          "model_name": "LayoutModel",
          "state": {
            "_model_module": "@jupyter-widgets/base",
            "_model_module_version": "1.2.0",
            "_model_name": "LayoutModel",
            "_view_count": null,
            "_view_module": "@jupyter-widgets/base",
            "_view_module_version": "1.2.0",
            "_view_name": "LayoutView",
            "align_content": null,
            "align_items": null,
            "align_self": null,
            "border": null,
            "bottom": null,
            "display": null,
            "flex": null,
            "flex_flow": null,
            "grid_area": null,
            "grid_auto_columns": null,
            "grid_auto_flow": null,
            "grid_auto_rows": null,
            "grid_column": null,
            "grid_gap": null,
            "grid_row": null,
            "grid_template_areas": null,
            "grid_template_columns": null,
            "grid_template_rows": null,
            "height": null,
            "justify_content": null,
            "justify_items": null,
            "left": null,
            "margin": null,
            "max_height": null,
            "max_width": null,
            "min_height": null,
            "min_width": null,
            "object_fit": null,
            "object_position": null,
            "order": null,
            "overflow": null,
            "overflow_x": null,
            "overflow_y": null,
            "padding": null,
            "right": null,
            "top": null,
            "visibility": null,
            "width": null
          }
        },
        "a633ea9fc1d74c76a3a6084d5a6f8539": {
          "model_module": "@jupyter-widgets/controls",
          "model_module_version": "1.5.0",
          "model_name": "ProgressStyleModel",
          "state": {
            "_model_module": "@jupyter-widgets/controls",
            "_model_module_version": "1.5.0",
            "_model_name": "ProgressStyleModel",
            "_view_count": null,
            "_view_module": "@jupyter-widgets/base",
            "_view_module_version": "1.2.0",
            "_view_name": "StyleView",
            "bar_color": null,
            "description_width": ""
          }
        },
        "af7e34c482c04720b4f005f18e6dad92": {
          "model_module": "@jupyter-widgets/controls",
          "model_module_version": "1.5.0",
          "model_name": "DescriptionStyleModel",
          "state": {
            "_model_module": "@jupyter-widgets/controls",
            "_model_module_version": "1.5.0",
            "_model_name": "DescriptionStyleModel",
            "_view_count": null,
            "_view_module": "@jupyter-widgets/base",
            "_view_module_version": "1.2.0",
            "_view_name": "StyleView",
            "description_width": ""
          }
        },
        "b8d7d7b35e244b148171c72267135dd1": {
          "model_module": "@jupyter-widgets/controls",
          "model_module_version": "1.5.0",
          "model_name": "HBoxModel",
          "state": {
            "_dom_classes": [],
            "_model_module": "@jupyter-widgets/controls",
            "_model_module_version": "1.5.0",
            "_model_name": "HBoxModel",
            "_view_count": null,
            "_view_module": "@jupyter-widgets/controls",
            "_view_module_version": "1.5.0",
            "_view_name": "HBoxView",
            "box_style": "",
            "children": [
              "IPY_MODEL_5dc962633d4b4dcfb8f6f839440d353f",
              "IPY_MODEL_ea7a779d7c4b4bfc81a21a99cd29771d",
              "IPY_MODEL_6e4aa4f785da45a08332e4e7cb26fbd3"
            ],
            "layout": "IPY_MODEL_7681f0f494084c8f8b2175e325f7f0f9"
          }
        },
        "bdeb420091644c3f9245f20d1b4328f8": {
          "model_module": "@jupyter-widgets/controls",
          "model_module_version": "1.5.0",
          "model_name": "DescriptionStyleModel",
          "state": {
            "_model_module": "@jupyter-widgets/controls",
            "_model_module_version": "1.5.0",
            "_model_name": "DescriptionStyleModel",
            "_view_count": null,
            "_view_module": "@jupyter-widgets/base",
            "_view_module_version": "1.2.0",
            "_view_name": "StyleView",
            "description_width": ""
          }
        },
        "c019cf1d7b7e4b7e816fdc3ed5bb3767": {
          "model_module": "@jupyter-widgets/controls",
          "model_module_version": "1.5.0",
          "model_name": "DescriptionStyleModel",
          "state": {
            "_model_module": "@jupyter-widgets/controls",
            "_model_module_version": "1.5.0",
            "_model_name": "DescriptionStyleModel",
            "_view_count": null,
            "_view_module": "@jupyter-widgets/base",
            "_view_module_version": "1.2.0",
            "_view_name": "StyleView",
            "description_width": ""
          }
        },
        "c1c16f594d884eedb3ed8d5d1afb65a8": {
          "model_module": "@jupyter-widgets/controls",
          "model_module_version": "1.5.0",
          "model_name": "HTMLModel",
          "state": {
            "_dom_classes": [],
            "_model_module": "@jupyter-widgets/controls",
            "_model_module_version": "1.5.0",
            "_model_name": "HTMLModel",
            "_view_count": null,
            "_view_module": "@jupyter-widgets/controls",
            "_view_module_version": "1.5.0",
            "_view_name": "HTMLView",
            "description": "",
            "description_tooltip": null,
            "layout": "IPY_MODEL_0dea0dd86212462eab912342227bd2cf",
            "placeholder": "​",
            "style": "IPY_MODEL_2906509412b746c190c5fcb5ad9b4e62",
            "value": " 170498071/170498071 [00:02&lt;00:00, 84746941.23it/s]"
          }
        },
        "c20da12748234ba59b037c66902a4969": {
          "model_module": "@jupyter-widgets/base",
          "model_module_version": "1.2.0",
          "model_name": "LayoutModel",
          "state": {
            "_model_module": "@jupyter-widgets/base",
            "_model_module_version": "1.2.0",
            "_model_name": "LayoutModel",
            "_view_count": null,
            "_view_module": "@jupyter-widgets/base",
            "_view_module_version": "1.2.0",
            "_view_name": "LayoutView",
            "align_content": null,
            "align_items": null,
            "align_self": null,
            "border": null,
            "bottom": null,
            "display": null,
            "flex": null,
            "flex_flow": null,
            "grid_area": null,
            "grid_auto_columns": null,
            "grid_auto_flow": null,
            "grid_auto_rows": null,
            "grid_column": null,
            "grid_gap": null,
            "grid_row": null,
            "grid_template_areas": null,
            "grid_template_columns": null,
            "grid_template_rows": null,
            "height": null,
            "justify_content": null,
            "justify_items": null,
            "left": null,
            "margin": null,
            "max_height": null,
            "max_width": null,
            "min_height": null,
            "min_width": null,
            "object_fit": null,
            "object_position": null,
            "order": null,
            "overflow": null,
            "overflow_x": null,
            "overflow_y": null,
            "padding": null,
            "right": null,
            "top": null,
            "visibility": null,
            "width": null
          }
        },
        "c603c0cc158a414f923b5eda3476ae89": {
          "model_module": "@jupyter-widgets/controls",
          "model_module_version": "1.5.0",
          "model_name": "HTMLModel",
          "state": {
            "_dom_classes": [],
            "_model_module": "@jupyter-widgets/controls",
            "_model_module_version": "1.5.0",
            "_model_name": "HTMLModel",
            "_view_count": null,
            "_view_module": "@jupyter-widgets/controls",
            "_view_module_version": "1.5.0",
            "_view_name": "HTMLView",
            "description": "",
            "description_tooltip": null,
            "layout": "IPY_MODEL_354aeefeee4a42daa49cad7d8e15b303",
            "placeholder": "​",
            "style": "IPY_MODEL_1476ec9c20154d89b3e944d3bb191f61",
            "value": " 1648877/1648877 [00:00&lt;00:00, 40305685.76it/s]"
          }
        },
        "d17540fc9b2c4dd58814ef1508b609b8": {
          "model_module": "@jupyter-widgets/controls",
          "model_module_version": "1.5.0",
          "model_name": "HTMLModel",
          "state": {
            "_dom_classes": [],
            "_model_module": "@jupyter-widgets/controls",
            "_model_module_version": "1.5.0",
            "_model_name": "HTMLModel",
            "_view_count": null,
            "_view_module": "@jupyter-widgets/controls",
            "_view_module_version": "1.5.0",
            "_view_name": "HTMLView",
            "description": "",
            "description_tooltip": null,
            "layout": "IPY_MODEL_a55ee8c9903c41b8a59bf5d4a03ac78e",
            "placeholder": "​",
            "style": "IPY_MODEL_fef5cd3f81654ef9af814fb7ea102b08",
            "value": "100%"
          }
        },
        "d2b79191216e4a51b3f05475fd49d919": {
          "model_module": "@jupyter-widgets/controls",
          "model_module_version": "1.5.0",
          "model_name": "FloatProgressModel",
          "state": {
            "_dom_classes": [],
            "_model_module": "@jupyter-widgets/controls",
            "_model_module_version": "1.5.0",
            "_model_name": "FloatProgressModel",
            "_view_count": null,
            "_view_module": "@jupyter-widgets/controls",
            "_view_module_version": "1.5.0",
            "_view_name": "ProgressView",
            "bar_style": "success",
            "description": "",
            "description_tooltip": null,
            "layout": "IPY_MODEL_92a161922fb14611a5995c44baa67064",
            "max": 1648877,
            "min": 0,
            "orientation": "horizontal",
            "style": "IPY_MODEL_3d738a1cea664662b4306a2f470ecf83",
            "value": 1648877
          }
        },
        "db151ddceb1c47c6a2cc5208dd4b11c1": {
          "model_module": "@jupyter-widgets/base",
          "model_module_version": "1.2.0",
          "model_name": "LayoutModel",
          "state": {
            "_model_module": "@jupyter-widgets/base",
            "_model_module_version": "1.2.0",
            "_model_name": "LayoutModel",
            "_view_count": null,
            "_view_module": "@jupyter-widgets/base",
            "_view_module_version": "1.2.0",
            "_view_name": "LayoutView",
            "align_content": null,
            "align_items": null,
            "align_self": null,
            "border": null,
            "bottom": null,
            "display": null,
            "flex": null,
            "flex_flow": null,
            "grid_area": null,
            "grid_auto_columns": null,
            "grid_auto_flow": null,
            "grid_auto_rows": null,
            "grid_column": null,
            "grid_gap": null,
            "grid_row": null,
            "grid_template_areas": null,
            "grid_template_columns": null,
            "grid_template_rows": null,
            "height": null,
            "justify_content": null,
            "justify_items": null,
            "left": null,
            "margin": null,
            "max_height": null,
            "max_width": null,
            "min_height": null,
            "min_width": null,
            "object_fit": null,
            "object_position": null,
            "order": null,
            "overflow": null,
            "overflow_x": null,
            "overflow_y": null,
            "padding": null,
            "right": null,
            "top": null,
            "visibility": null,
            "width": null
          }
        },
        "e0d979f8f10045ebb1986eb37cf49819": {
          "model_module": "@jupyter-widgets/base",
          "model_module_version": "1.2.0",
          "model_name": "LayoutModel",
          "state": {
            "_model_module": "@jupyter-widgets/base",
            "_model_module_version": "1.2.0",
            "_model_name": "LayoutModel",
            "_view_count": null,
            "_view_module": "@jupyter-widgets/base",
            "_view_module_version": "1.2.0",
            "_view_name": "LayoutView",
            "align_content": null,
            "align_items": null,
            "align_self": null,
            "border": null,
            "bottom": null,
            "display": null,
            "flex": null,
            "flex_flow": null,
            "grid_area": null,
            "grid_auto_columns": null,
            "grid_auto_flow": null,
            "grid_auto_rows": null,
            "grid_column": null,
            "grid_gap": null,
            "grid_row": null,
            "grid_template_areas": null,
            "grid_template_columns": null,
            "grid_template_rows": null,
            "height": null,
            "justify_content": null,
            "justify_items": null,
            "left": null,
            "margin": null,
            "max_height": null,
            "max_width": null,
            "min_height": null,
            "min_width": null,
            "object_fit": null,
            "object_position": null,
            "order": null,
            "overflow": null,
            "overflow_x": null,
            "overflow_y": null,
            "padding": null,
            "right": null,
            "top": null,
            "visibility": null,
            "width": null
          }
        },
        "e8b88a0361ce40099b311cb4aa460c65": {
          "model_module": "@jupyter-widgets/base",
          "model_module_version": "1.2.0",
          "model_name": "LayoutModel",
          "state": {
            "_model_module": "@jupyter-widgets/base",
            "_model_module_version": "1.2.0",
            "_model_name": "LayoutModel",
            "_view_count": null,
            "_view_module": "@jupyter-widgets/base",
            "_view_module_version": "1.2.0",
            "_view_name": "LayoutView",
            "align_content": null,
            "align_items": null,
            "align_self": null,
            "border": null,
            "bottom": null,
            "display": null,
            "flex": null,
            "flex_flow": null,
            "grid_area": null,
            "grid_auto_columns": null,
            "grid_auto_flow": null,
            "grid_auto_rows": null,
            "grid_column": null,
            "grid_gap": null,
            "grid_row": null,
            "grid_template_areas": null,
            "grid_template_columns": null,
            "grid_template_rows": null,
            "height": null,
            "justify_content": null,
            "justify_items": null,
            "left": null,
            "margin": null,
            "max_height": null,
            "max_width": null,
            "min_height": null,
            "min_width": null,
            "object_fit": null,
            "object_position": null,
            "order": null,
            "overflow": null,
            "overflow_x": null,
            "overflow_y": null,
            "padding": null,
            "right": null,
            "top": null,
            "visibility": null,
            "width": null
          }
        },
        "ea7a779d7c4b4bfc81a21a99cd29771d": {
          "model_module": "@jupyter-widgets/controls",
          "model_module_version": "1.5.0",
          "model_name": "FloatProgressModel",
          "state": {
            "_dom_classes": [],
            "_model_module": "@jupyter-widgets/controls",
            "_model_module_version": "1.5.0",
            "_model_name": "FloatProgressModel",
            "_view_count": null,
            "_view_module": "@jupyter-widgets/controls",
            "_view_module_version": "1.5.0",
            "_view_name": "ProgressView",
            "bar_style": "success",
            "description": "",
            "description_tooltip": null,
            "layout": "IPY_MODEL_e8b88a0361ce40099b311cb4aa460c65",
            "max": 28881,
            "min": 0,
            "orientation": "horizontal",
            "style": "IPY_MODEL_6f12878b6b934266843f519b6c217375",
            "value": 28881
          }
        },
        "eb2cb9f7e8aa4b1c8e68c09af4b842b7": {
          "model_module": "@jupyter-widgets/controls",
          "model_module_version": "1.5.0",
          "model_name": "HBoxModel",
          "state": {
            "_dom_classes": [],
            "_model_module": "@jupyter-widgets/controls",
            "_model_module_version": "1.5.0",
            "_model_name": "HBoxModel",
            "_view_count": null,
            "_view_module": "@jupyter-widgets/controls",
            "_view_module_version": "1.5.0",
            "_view_name": "HBoxView",
            "box_style": "",
            "children": [
              "IPY_MODEL_208453e735234402bd2f4d6620bef690",
              "IPY_MODEL_8dfd161e41f14269ba5a9b032b568397",
              "IPY_MODEL_2bbf5e823d2a41dfbf7186d3881178fb"
            ],
            "layout": "IPY_MODEL_a06ed5d69c7243f8a8d3eea9a73a3369"
          }
        },
        "faf93d3876b1495aa8b552f573e1c921": {
          "model_module": "@jupyter-widgets/base",
          "model_module_version": "1.2.0",
          "model_name": "LayoutModel",
          "state": {
            "_model_module": "@jupyter-widgets/base",
            "_model_module_version": "1.2.0",
            "_model_name": "LayoutModel",
            "_view_count": null,
            "_view_module": "@jupyter-widgets/base",
            "_view_module_version": "1.2.0",
            "_view_name": "LayoutView",
            "align_content": null,
            "align_items": null,
            "align_self": null,
            "border": null,
            "bottom": null,
            "display": null,
            "flex": null,
            "flex_flow": null,
            "grid_area": null,
            "grid_auto_columns": null,
            "grid_auto_flow": null,
            "grid_auto_rows": null,
            "grid_column": null,
            "grid_gap": null,
            "grid_row": null,
            "grid_template_areas": null,
            "grid_template_columns": null,
            "grid_template_rows": null,
            "height": null,
            "justify_content": null,
            "justify_items": null,
            "left": null,
            "margin": null,
            "max_height": null,
            "max_width": null,
            "min_height": null,
            "min_width": null,
            "object_fit": null,
            "object_position": null,
            "order": null,
            "overflow": null,
            "overflow_x": null,
            "overflow_y": null,
            "padding": null,
            "right": null,
            "top": null,
            "visibility": null,
            "width": null
          }
        },
        "fef5cd3f81654ef9af814fb7ea102b08": {
          "model_module": "@jupyter-widgets/controls",
          "model_module_version": "1.5.0",
          "model_name": "DescriptionStyleModel",
          "state": {
            "_model_module": "@jupyter-widgets/controls",
            "_model_module_version": "1.5.0",
            "_model_name": "DescriptionStyleModel",
            "_view_count": null,
            "_view_module": "@jupyter-widgets/base",
            "_view_module_version": "1.2.0",
            "_view_name": "StyleView",
            "description_width": ""
          }
        }
      }
    }
  },
  "nbformat": 4,
  "nbformat_minor": 5
}
